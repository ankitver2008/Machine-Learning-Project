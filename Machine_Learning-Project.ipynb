{
  "nbformat": 4,
  "nbformat_minor": 0,
  "metadata": {
    "colab": {
      "name": "Alternate Project machine Learning.ipynb",
      "provenance": [],
      "collapsed_sections": []
    },
    "kernelspec": {
      "name": "python3",
      "display_name": "Python 3"
    }
  },
  "cells": [
    {
      "cell_type": "code",
      "metadata": {
        "id": "A6MGpERrr_pd",
        "colab_type": "code",
        "colab": {}
      },
      "source": [
        "from google.colab import drive"
      ],
      "execution_count": 1,
      "outputs": []
    },
    {
      "cell_type": "code",
      "metadata": {
        "id": "tn5SJpUYsKRv",
        "colab_type": "code",
        "colab": {
          "base_uri": "https://localhost:8080/",
          "height": 34
        },
        "outputId": "8f88819c-bcdf-4538-f564-3812abc6264d"
      },
      "source": [
        "drive.mount('../content/drive')"
      ],
      "execution_count": 2,
      "outputs": [
        {
          "output_type": "stream",
          "text": [
            "Drive already mounted at ../content/drive; to attempt to forcibly remount, call drive.mount(\"../content/drive\", force_remount=True).\n"
          ],
          "name": "stdout"
        }
      ]
    },
    {
      "cell_type": "code",
      "metadata": {
        "id": "8Bbcf76QPiCn",
        "colab_type": "code",
        "colab": {
          "base_uri": "https://localhost:8080/",
          "height": 71
        },
        "outputId": "83d141f0-6251-43bf-f48e-7f080150ee9e"
      },
      "source": [
        "import pandas as pd\n",
        "import numpy as np\n",
        "import seaborn as sns\n",
        "import matplotlib.pyplot as plt\n",
        "%matplotlib inline"
      ],
      "execution_count": 3,
      "outputs": [
        {
          "output_type": "stream",
          "text": [
            "/usr/local/lib/python3.6/dist-packages/statsmodels/tools/_testing.py:19: FutureWarning: pandas.util.testing is deprecated. Use the functions in the public API at pandas.testing instead.\n",
            "  import pandas.util.testing as tm\n"
          ],
          "name": "stderr"
        }
      ]
    },
    {
      "cell_type": "code",
      "metadata": {
        "id": "iO9Jh7UVsSBv",
        "colab_type": "code",
        "colab": {
          "base_uri": "https://localhost:8080/",
          "height": 204
        },
        "outputId": "c6f17008-29c5-4a94-8d28-9a0bbe2da893"
      },
      "source": [
        "df=pd.read_csv('/content/drive/My Drive/PGDSBA/Machine Learning/Alternate Project/Cars (2) (1).csv')\n",
        "df.head()"
      ],
      "execution_count": 4,
      "outputs": [
        {
          "output_type": "execute_result",
          "data": {
            "text/html": [
              "<div>\n",
              "<style scoped>\n",
              "    .dataframe tbody tr th:only-of-type {\n",
              "        vertical-align: middle;\n",
              "    }\n",
              "\n",
              "    .dataframe tbody tr th {\n",
              "        vertical-align: top;\n",
              "    }\n",
              "\n",
              "    .dataframe thead th {\n",
              "        text-align: right;\n",
              "    }\n",
              "</style>\n",
              "<table border=\"1\" class=\"dataframe\">\n",
              "  <thead>\n",
              "    <tr style=\"text-align: right;\">\n",
              "      <th></th>\n",
              "      <th>Age</th>\n",
              "      <th>Gender</th>\n",
              "      <th>Engineer</th>\n",
              "      <th>MBA</th>\n",
              "      <th>Work Exp</th>\n",
              "      <th>Salary</th>\n",
              "      <th>Distance</th>\n",
              "      <th>license</th>\n",
              "      <th>Transport</th>\n",
              "    </tr>\n",
              "  </thead>\n",
              "  <tbody>\n",
              "    <tr>\n",
              "      <th>0</th>\n",
              "      <td>28</td>\n",
              "      <td>Male</td>\n",
              "      <td>0</td>\n",
              "      <td>0</td>\n",
              "      <td>4</td>\n",
              "      <td>14.3</td>\n",
              "      <td>3.2</td>\n",
              "      <td>0</td>\n",
              "      <td>Public Transport</td>\n",
              "    </tr>\n",
              "    <tr>\n",
              "      <th>1</th>\n",
              "      <td>23</td>\n",
              "      <td>Female</td>\n",
              "      <td>1</td>\n",
              "      <td>0</td>\n",
              "      <td>4</td>\n",
              "      <td>8.3</td>\n",
              "      <td>3.3</td>\n",
              "      <td>0</td>\n",
              "      <td>Public Transport</td>\n",
              "    </tr>\n",
              "    <tr>\n",
              "      <th>2</th>\n",
              "      <td>29</td>\n",
              "      <td>Male</td>\n",
              "      <td>1</td>\n",
              "      <td>0</td>\n",
              "      <td>7</td>\n",
              "      <td>13.4</td>\n",
              "      <td>4.1</td>\n",
              "      <td>0</td>\n",
              "      <td>Public Transport</td>\n",
              "    </tr>\n",
              "    <tr>\n",
              "      <th>3</th>\n",
              "      <td>28</td>\n",
              "      <td>Female</td>\n",
              "      <td>1</td>\n",
              "      <td>1</td>\n",
              "      <td>5</td>\n",
              "      <td>13.4</td>\n",
              "      <td>4.5</td>\n",
              "      <td>0</td>\n",
              "      <td>Public Transport</td>\n",
              "    </tr>\n",
              "    <tr>\n",
              "      <th>4</th>\n",
              "      <td>27</td>\n",
              "      <td>Male</td>\n",
              "      <td>1</td>\n",
              "      <td>0</td>\n",
              "      <td>4</td>\n",
              "      <td>13.4</td>\n",
              "      <td>4.6</td>\n",
              "      <td>0</td>\n",
              "      <td>Public Transport</td>\n",
              "    </tr>\n",
              "  </tbody>\n",
              "</table>\n",
              "</div>"
            ],
            "text/plain": [
              "   Age  Gender  Engineer  MBA  ...  Salary  Distance  license         Transport\n",
              "0   28    Male         0    0  ...    14.3       3.2        0  Public Transport\n",
              "1   23  Female         1    0  ...     8.3       3.3        0  Public Transport\n",
              "2   29    Male         1    0  ...    13.4       4.1        0  Public Transport\n",
              "3   28  Female         1    1  ...    13.4       4.5        0  Public Transport\n",
              "4   27    Male         1    0  ...    13.4       4.6        0  Public Transport\n",
              "\n",
              "[5 rows x 9 columns]"
            ]
          },
          "metadata": {
            "tags": []
          },
          "execution_count": 4
        }
      ]
    },
    {
      "cell_type": "code",
      "metadata": {
        "id": "rrhWjHHjRQwc",
        "colab_type": "code",
        "colab": {
          "base_uri": "https://localhost:8080/",
          "height": 51
        },
        "outputId": "f5961619-0d4b-4337-b98a-e14688c983ea"
      },
      "source": [
        "print('number of rows:',df.shape[0])\n",
        "print('number of columns:',df.shape[1])\n"
      ],
      "execution_count": 5,
      "outputs": [
        {
          "output_type": "stream",
          "text": [
            "number of rows: 444\n",
            "number of columns: 9\n"
          ],
          "name": "stdout"
        }
      ]
    },
    {
      "cell_type": "code",
      "metadata": {
        "id": "LWgm_upjRU-w",
        "colab_type": "code",
        "colab": {
          "base_uri": "https://localhost:8080/",
          "height": 34
        },
        "outputId": "5ff45c8a-2fbe-4f1a-94a5-6b38b7fc0c4b"
      },
      "source": [
        "df.size"
      ],
      "execution_count": 6,
      "outputs": [
        {
          "output_type": "execute_result",
          "data": {
            "text/plain": [
              "3996"
            ]
          },
          "metadata": {
            "tags": []
          },
          "execution_count": 6
        }
      ]
    },
    {
      "cell_type": "code",
      "metadata": {
        "id": "ge27lnroPNBl",
        "colab_type": "code",
        "colab": {
          "base_uri": "https://localhost:8080/",
          "height": 289
        },
        "outputId": "3b1a386f-2f39-4b05-8c89-bc81db7a9cb5"
      },
      "source": [
        "df.info()"
      ],
      "execution_count": 7,
      "outputs": [
        {
          "output_type": "stream",
          "text": [
            "<class 'pandas.core.frame.DataFrame'>\n",
            "RangeIndex: 444 entries, 0 to 443\n",
            "Data columns (total 9 columns):\n",
            " #   Column     Non-Null Count  Dtype  \n",
            "---  ------     --------------  -----  \n",
            " 0   Age        444 non-null    int64  \n",
            " 1   Gender     444 non-null    object \n",
            " 2   Engineer   444 non-null    int64  \n",
            " 3   MBA        444 non-null    int64  \n",
            " 4   Work Exp   444 non-null    int64  \n",
            " 5   Salary     444 non-null    float64\n",
            " 6   Distance   444 non-null    float64\n",
            " 7   license    444 non-null    int64  \n",
            " 8   Transport  444 non-null    object \n",
            "dtypes: float64(2), int64(5), object(2)\n",
            "memory usage: 31.3+ KB\n"
          ],
          "name": "stdout"
        }
      ]
    },
    {
      "cell_type": "code",
      "metadata": {
        "id": "pEokRJwsPvoc",
        "colab_type": "code",
        "colab": {
          "base_uri": "https://localhost:8080/",
          "height": 187
        },
        "outputId": "7cff674c-9938-4e9e-8047-9eb8b4ea593a"
      },
      "source": [
        "df.dtypes"
      ],
      "execution_count": 8,
      "outputs": [
        {
          "output_type": "execute_result",
          "data": {
            "text/plain": [
              "Age            int64\n",
              "Gender        object\n",
              "Engineer       int64\n",
              "MBA            int64\n",
              "Work Exp       int64\n",
              "Salary       float64\n",
              "Distance     float64\n",
              "license        int64\n",
              "Transport     object\n",
              "dtype: object"
            ]
          },
          "metadata": {
            "tags": []
          },
          "execution_count": 8
        }
      ]
    },
    {
      "cell_type": "code",
      "metadata": {
        "id": "mU_TKEPgPxQ2",
        "colab_type": "code",
        "colab": {
          "base_uri": "https://localhost:8080/",
          "height": 187
        },
        "outputId": "cf82aa30-c963-465e-a152-c35a822ae494"
      },
      "source": [
        "df.isnull().sum()"
      ],
      "execution_count": 9,
      "outputs": [
        {
          "output_type": "execute_result",
          "data": {
            "text/plain": [
              "Age          0\n",
              "Gender       0\n",
              "Engineer     0\n",
              "MBA          0\n",
              "Work Exp     0\n",
              "Salary       0\n",
              "Distance     0\n",
              "license      0\n",
              "Transport    0\n",
              "dtype: int64"
            ]
          },
          "metadata": {
            "tags": []
          },
          "execution_count": 9
        }
      ]
    },
    {
      "cell_type": "code",
      "metadata": {
        "id": "ADbmRFCzP0-c",
        "colab_type": "code",
        "colab": {
          "base_uri": "https://localhost:8080/",
          "height": 34
        },
        "outputId": "4230138c-0157-4cf7-98fb-fc37dd0484d9"
      },
      "source": [
        "df.duplicated().sum()"
      ],
      "execution_count": 10,
      "outputs": [
        {
          "output_type": "execute_result",
          "data": {
            "text/plain": [
              "0"
            ]
          },
          "metadata": {
            "tags": []
          },
          "execution_count": 10
        }
      ]
    },
    {
      "cell_type": "markdown",
      "metadata": {
        "id": "qmDRN5rbRk0G",
        "colab_type": "text"
      },
      "source": [
        "**Univariate Analysis**"
      ]
    },
    {
      "cell_type": "markdown",
      "metadata": {
        "id": "wws3oK4eYait",
        "colab_type": "text"
      },
      "source": [
        "Checking for the categorical data types"
      ]
    },
    {
      "cell_type": "code",
      "metadata": {
        "id": "bI3sg-OgP4bG",
        "colab_type": "code",
        "colab": {
          "base_uri": "https://localhost:8080/",
          "height": 1000
        },
        "outputId": "7d88e97e-50f3-490b-f07e-6fdfd0c91906"
      },
      "source": [
        "for col in df.columns:\n",
        "  print(col)\n",
        "  print(df[col].value_counts())"
      ],
      "execution_count": 11,
      "outputs": [
        {
          "output_type": "stream",
          "text": [
            "Age\n",
            "26    63\n",
            "27    49\n",
            "24    46\n",
            "28    46\n",
            "25    37\n",
            "30    34\n",
            "29    26\n",
            "23    24\n",
            "31    16\n",
            "22    15\n",
            "32    13\n",
            "34    11\n",
            "33    11\n",
            "38     9\n",
            "21     8\n",
            "39     7\n",
            "40     7\n",
            "36     6\n",
            "20     5\n",
            "37     4\n",
            "18     2\n",
            "35     2\n",
            "42     1\n",
            "19     1\n",
            "43     1\n",
            "Name: Age, dtype: int64\n",
            "Gender\n",
            "Male      316\n",
            "Female    128\n",
            "Name: Gender, dtype: int64\n",
            "Engineer\n",
            "1    335\n",
            "0    109\n",
            "Name: Engineer, dtype: int64\n",
            "MBA\n",
            "0    332\n",
            "1    112\n",
            "Name: MBA, dtype: int64\n",
            "Work Exp\n",
            "4     54\n",
            "2     47\n",
            "3     46\n",
            "6     46\n",
            "5     42\n",
            "0     29\n",
            "7     28\n",
            "8     28\n",
            "1     22\n",
            "9     21\n",
            "10    14\n",
            "11    11\n",
            "19    10\n",
            "14     8\n",
            "20     6\n",
            "21     6\n",
            "12     5\n",
            "16     5\n",
            "18     5\n",
            "22     3\n",
            "13     3\n",
            "15     2\n",
            "17     2\n",
            "24     1\n",
            "Name: Work Exp, dtype: int64\n",
            "Salary\n",
            "14.6    22\n",
            "8.5     13\n",
            "13.6    12\n",
            "12.8    12\n",
            "8.6     11\n",
            "        ..\n",
            "57.0     1\n",
            "52.0     1\n",
            "11.9     1\n",
            "55.0     1\n",
            "41.9     1\n",
            "Name: Salary, Length: 122, dtype: int64\n",
            "Distance\n",
            "12.2    12\n",
            "8.1     11\n",
            "9.0      9\n",
            "11.7     8\n",
            "10.0     7\n",
            "        ..\n",
            "20.8     1\n",
            "6.9      1\n",
            "18.8     1\n",
            "17.7     1\n",
            "4.5      1\n",
            "Name: Distance, Length: 137, dtype: int64\n",
            "license\n",
            "0    340\n",
            "1    104\n",
            "Name: license, dtype: int64\n",
            "Transport\n",
            "Public Transport     300\n",
            "Private Transport    144\n",
            "Name: Transport, dtype: int64\n"
          ],
          "name": "stdout"
        }
      ]
    },
    {
      "cell_type": "markdown",
      "metadata": {
        "id": "HL1N_swXYlJx",
        "colab_type": "text"
      },
      "source": [
        "From the above it is clear that the Categorical variables are :\n",
        "\n",
        "1. Gender\n",
        "2. Engineer\n",
        "3. MBA\n",
        "4. License\n",
        "5. Transport"
      ]
    },
    {
      "cell_type": "markdown",
      "metadata": {
        "id": "DV-7Uc46ZYjw",
        "colab_type": "text"
      },
      "source": [
        "**Now changing the data types of the categorical variables**"
      ]
    },
    {
      "cell_type": "code",
      "metadata": {
        "id": "AsQm-kARRrL8",
        "colab_type": "code",
        "colab": {}
      },
      "source": [
        "cat = ['Gender','Engineer','MBA','license','Transport']\n",
        "for col in cat:\n",
        "  df[col]=df[col].astype('object')"
      ],
      "execution_count": 12,
      "outputs": []
    },
    {
      "cell_type": "code",
      "metadata": {
        "id": "dP8cVCWXZ_sG",
        "colab_type": "code",
        "colab": {
          "base_uri": "https://localhost:8080/",
          "height": 187
        },
        "outputId": "b1ef62e0-68e5-4bd1-e4c9-838d5d978e6d"
      },
      "source": [
        "df.dtypes"
      ],
      "execution_count": 13,
      "outputs": [
        {
          "output_type": "execute_result",
          "data": {
            "text/plain": [
              "Age            int64\n",
              "Gender        object\n",
              "Engineer      object\n",
              "MBA           object\n",
              "Work Exp       int64\n",
              "Salary       float64\n",
              "Distance     float64\n",
              "license       object\n",
              "Transport     object\n",
              "dtype: object"
            ]
          },
          "metadata": {
            "tags": []
          },
          "execution_count": 13
        }
      ]
    },
    {
      "cell_type": "code",
      "metadata": {
        "id": "TlGp09nabyRF",
        "colab_type": "code",
        "colab": {
          "base_uri": "https://localhost:8080/",
          "height": 357
        },
        "outputId": "e17780af-995e-48e2-e820-8cb32e179b8f"
      },
      "source": [
        "for col in df.columns:\n",
        "  if df[col].dtype=='object':\n",
        "    print(col)\n",
        "    print(df[col].value_counts())"
      ],
      "execution_count": 14,
      "outputs": [
        {
          "output_type": "stream",
          "text": [
            "Gender\n",
            "Male      316\n",
            "Female    128\n",
            "Name: Gender, dtype: int64\n",
            "Engineer\n",
            "1    335\n",
            "0    109\n",
            "Name: Engineer, dtype: int64\n",
            "MBA\n",
            "0    332\n",
            "1    112\n",
            "Name: MBA, dtype: int64\n",
            "license\n",
            "0    340\n",
            "1    104\n",
            "Name: license, dtype: int64\n",
            "Transport\n",
            "Public Transport     300\n",
            "Private Transport    144\n",
            "Name: Transport, dtype: int64\n"
          ],
          "name": "stdout"
        }
      ]
    },
    {
      "cell_type": "code",
      "metadata": {
        "id": "3XxDTIvMZVoX",
        "colab_type": "code",
        "colab": {
          "base_uri": "https://localhost:8080/",
          "height": 204
        },
        "outputId": "705ddc47-44de-4e80-c33a-b50cdd03e374"
      },
      "source": [
        "table=pd.pivot_table(df,index=['Transport','Gender'],aggfunc={'Age':np.mean,'Distance':np.mean,'Salary':np.mean,'Work Exp':np.mean,'license':np.count_nonzero,'MBA':np.count_nonzero,'Engineer':np.count_nonzero})\n",
        "table"
      ],
      "execution_count": 15,
      "outputs": [
        {
          "output_type": "execute_result",
          "data": {
            "text/html": [
              "<div>\n",
              "<style scoped>\n",
              "    .dataframe tbody tr th:only-of-type {\n",
              "        vertical-align: middle;\n",
              "    }\n",
              "\n",
              "    .dataframe tbody tr th {\n",
              "        vertical-align: top;\n",
              "    }\n",
              "\n",
              "    .dataframe thead th {\n",
              "        text-align: right;\n",
              "    }\n",
              "</style>\n",
              "<table border=\"1\" class=\"dataframe\">\n",
              "  <thead>\n",
              "    <tr style=\"text-align: right;\">\n",
              "      <th></th>\n",
              "      <th></th>\n",
              "      <th>Age</th>\n",
              "      <th>Distance</th>\n",
              "      <th>Engineer</th>\n",
              "      <th>MBA</th>\n",
              "      <th>Salary</th>\n",
              "      <th>Work Exp</th>\n",
              "      <th>license</th>\n",
              "    </tr>\n",
              "    <tr>\n",
              "      <th>Transport</th>\n",
              "      <th>Gender</th>\n",
              "      <th></th>\n",
              "      <th></th>\n",
              "      <th></th>\n",
              "      <th></th>\n",
              "      <th></th>\n",
              "      <th></th>\n",
              "      <th></th>\n",
              "    </tr>\n",
              "  </thead>\n",
              "  <tbody>\n",
              "    <tr>\n",
              "      <th rowspan=\"2\" valign=\"top\">Private Transport</th>\n",
              "      <th>Female</th>\n",
              "      <td>27.411765</td>\n",
              "      <td>12.884314</td>\n",
              "      <td>41</td>\n",
              "      <td>9</td>\n",
              "      <td>16.656863</td>\n",
              "      <td>6.372549</td>\n",
              "      <td>10</td>\n",
              "    </tr>\n",
              "    <tr>\n",
              "      <th>Male</th>\n",
              "      <td>30.946237</td>\n",
              "      <td>13.719355</td>\n",
              "      <td>71</td>\n",
              "      <td>20</td>\n",
              "      <td>25.887097</td>\n",
              "      <td>10.397849</td>\n",
              "      <td>61</td>\n",
              "    </tr>\n",
              "    <tr>\n",
              "      <th rowspan=\"2\" valign=\"top\">Public Transport</th>\n",
              "      <th>Female</th>\n",
              "      <td>26.831169</td>\n",
              "      <td>9.779221</td>\n",
              "      <td>54</td>\n",
              "      <td>15</td>\n",
              "      <td>13.336364</td>\n",
              "      <td>5.103896</td>\n",
              "      <td>0</td>\n",
              "    </tr>\n",
              "    <tr>\n",
              "      <th>Male</th>\n",
              "      <td>26.807175</td>\n",
              "      <td>10.500000</td>\n",
              "      <td>169</td>\n",
              "      <td>68</td>\n",
              "      <td>13.121525</td>\n",
              "      <td>4.986547</td>\n",
              "      <td>33</td>\n",
              "    </tr>\n",
              "  </tbody>\n",
              "</table>\n",
              "</div>"
            ],
            "text/plain": [
              "                                Age   Distance  ...   Work Exp  license\n",
              "Transport         Gender                        ...                    \n",
              "Private Transport Female  27.411765  12.884314  ...   6.372549       10\n",
              "                  Male    30.946237  13.719355  ...  10.397849       61\n",
              "Public Transport  Female  26.831169   9.779221  ...   5.103896        0\n",
              "                  Male    26.807175  10.500000  ...   4.986547       33\n",
              "\n",
              "[4 rows x 7 columns]"
            ]
          },
          "metadata": {
            "tags": []
          },
          "execution_count": 15
        }
      ]
    },
    {
      "cell_type": "markdown",
      "metadata": {
        "id": "HING1mz2a6lg",
        "colab_type": "text"
      },
      "source": [
        "Making different list for categorical columns and numerical columns"
      ]
    },
    {
      "cell_type": "code",
      "metadata": {
        "id": "vY4JWZF8bFJd",
        "colab_type": "code",
        "colab": {
          "base_uri": "https://localhost:8080/",
          "height": 51
        },
        "outputId": "0a8337cd-8a1d-4ad0-872c-75421e09b7a1"
      },
      "source": [
        "cat=[]\n",
        "num=[]\n",
        "for i in df.columns:\n",
        "  if df[i].dtype=='object':\n",
        "    cat.append(i)\n",
        "  else:\n",
        "    num.append(i)\n",
        "print('cat = ',cat)\n",
        "print('num = ',num)"
      ],
      "execution_count": 16,
      "outputs": [
        {
          "output_type": "stream",
          "text": [
            "cat =  ['Gender', 'Engineer', 'MBA', 'license', 'Transport']\n",
            "num =  ['Age', 'Work Exp', 'Salary', 'Distance']\n"
          ],
          "name": "stdout"
        }
      ]
    },
    {
      "cell_type": "markdown",
      "metadata": {
        "id": "qOFdiJMff64c",
        "colab_type": "text"
      },
      "source": [
        "Description of Categorical and Numerical Variables"
      ]
    },
    {
      "cell_type": "code",
      "metadata": {
        "id": "oK2dKD3lbskZ",
        "colab_type": "code",
        "colab": {
          "base_uri": "https://localhost:8080/",
          "height": 204
        },
        "outputId": "549e8b4e-2a66-4ad0-cb86-573a7539dd3d"
      },
      "source": [
        "df[cat].describe().T"
      ],
      "execution_count": 17,
      "outputs": [
        {
          "output_type": "execute_result",
          "data": {
            "text/html": [
              "<div>\n",
              "<style scoped>\n",
              "    .dataframe tbody tr th:only-of-type {\n",
              "        vertical-align: middle;\n",
              "    }\n",
              "\n",
              "    .dataframe tbody tr th {\n",
              "        vertical-align: top;\n",
              "    }\n",
              "\n",
              "    .dataframe thead th {\n",
              "        text-align: right;\n",
              "    }\n",
              "</style>\n",
              "<table border=\"1\" class=\"dataframe\">\n",
              "  <thead>\n",
              "    <tr style=\"text-align: right;\">\n",
              "      <th></th>\n",
              "      <th>count</th>\n",
              "      <th>unique</th>\n",
              "      <th>top</th>\n",
              "      <th>freq</th>\n",
              "    </tr>\n",
              "  </thead>\n",
              "  <tbody>\n",
              "    <tr>\n",
              "      <th>Gender</th>\n",
              "      <td>444</td>\n",
              "      <td>2</td>\n",
              "      <td>Male</td>\n",
              "      <td>316</td>\n",
              "    </tr>\n",
              "    <tr>\n",
              "      <th>Engineer</th>\n",
              "      <td>444</td>\n",
              "      <td>2</td>\n",
              "      <td>1</td>\n",
              "      <td>335</td>\n",
              "    </tr>\n",
              "    <tr>\n",
              "      <th>MBA</th>\n",
              "      <td>444</td>\n",
              "      <td>2</td>\n",
              "      <td>0</td>\n",
              "      <td>332</td>\n",
              "    </tr>\n",
              "    <tr>\n",
              "      <th>license</th>\n",
              "      <td>444</td>\n",
              "      <td>2</td>\n",
              "      <td>0</td>\n",
              "      <td>340</td>\n",
              "    </tr>\n",
              "    <tr>\n",
              "      <th>Transport</th>\n",
              "      <td>444</td>\n",
              "      <td>2</td>\n",
              "      <td>Public Transport</td>\n",
              "      <td>300</td>\n",
              "    </tr>\n",
              "  </tbody>\n",
              "</table>\n",
              "</div>"
            ],
            "text/plain": [
              "          count unique               top freq\n",
              "Gender      444      2              Male  316\n",
              "Engineer    444      2                 1  335\n",
              "MBA         444      2                 0  332\n",
              "license     444      2                 0  340\n",
              "Transport   444      2  Public Transport  300"
            ]
          },
          "metadata": {
            "tags": []
          },
          "execution_count": 17
        }
      ]
    },
    {
      "cell_type": "code",
      "metadata": {
        "id": "JFz5rCAogF-Y",
        "colab_type": "code",
        "colab": {
          "base_uri": "https://localhost:8080/",
          "height": 173
        },
        "outputId": "bd6a9c78-79b4-4a77-9cc2-746b2982e6e0"
      },
      "source": [
        "df[num].describe().T"
      ],
      "execution_count": 18,
      "outputs": [
        {
          "output_type": "execute_result",
          "data": {
            "text/html": [
              "<div>\n",
              "<style scoped>\n",
              "    .dataframe tbody tr th:only-of-type {\n",
              "        vertical-align: middle;\n",
              "    }\n",
              "\n",
              "    .dataframe tbody tr th {\n",
              "        vertical-align: top;\n",
              "    }\n",
              "\n",
              "    .dataframe thead th {\n",
              "        text-align: right;\n",
              "    }\n",
              "</style>\n",
              "<table border=\"1\" class=\"dataframe\">\n",
              "  <thead>\n",
              "    <tr style=\"text-align: right;\">\n",
              "      <th></th>\n",
              "      <th>count</th>\n",
              "      <th>mean</th>\n",
              "      <th>std</th>\n",
              "      <th>min</th>\n",
              "      <th>25%</th>\n",
              "      <th>50%</th>\n",
              "      <th>75%</th>\n",
              "      <th>max</th>\n",
              "    </tr>\n",
              "  </thead>\n",
              "  <tbody>\n",
              "    <tr>\n",
              "      <th>Age</th>\n",
              "      <td>444.0</td>\n",
              "      <td>27.747748</td>\n",
              "      <td>4.416710</td>\n",
              "      <td>18.0</td>\n",
              "      <td>25.0</td>\n",
              "      <td>27.0</td>\n",
              "      <td>30.000</td>\n",
              "      <td>43.0</td>\n",
              "    </tr>\n",
              "    <tr>\n",
              "      <th>Work Exp</th>\n",
              "      <td>444.0</td>\n",
              "      <td>6.299550</td>\n",
              "      <td>5.112098</td>\n",
              "      <td>0.0</td>\n",
              "      <td>3.0</td>\n",
              "      <td>5.0</td>\n",
              "      <td>8.000</td>\n",
              "      <td>24.0</td>\n",
              "    </tr>\n",
              "    <tr>\n",
              "      <th>Salary</th>\n",
              "      <td>444.0</td>\n",
              "      <td>16.238739</td>\n",
              "      <td>10.453851</td>\n",
              "      <td>6.5</td>\n",
              "      <td>9.8</td>\n",
              "      <td>13.6</td>\n",
              "      <td>15.725</td>\n",
              "      <td>57.0</td>\n",
              "    </tr>\n",
              "    <tr>\n",
              "      <th>Distance</th>\n",
              "      <td>444.0</td>\n",
              "      <td>11.323198</td>\n",
              "      <td>3.606149</td>\n",
              "      <td>3.2</td>\n",
              "      <td>8.8</td>\n",
              "      <td>11.0</td>\n",
              "      <td>13.425</td>\n",
              "      <td>23.4</td>\n",
              "    </tr>\n",
              "  </tbody>\n",
              "</table>\n",
              "</div>"
            ],
            "text/plain": [
              "          count       mean        std   min   25%   50%     75%   max\n",
              "Age       444.0  27.747748   4.416710  18.0  25.0  27.0  30.000  43.0\n",
              "Work Exp  444.0   6.299550   5.112098   0.0   3.0   5.0   8.000  24.0\n",
              "Salary    444.0  16.238739  10.453851   6.5   9.8  13.6  15.725  57.0\n",
              "Distance  444.0  11.323198   3.606149   3.2   8.8  11.0  13.425  23.4"
            ]
          },
          "metadata": {
            "tags": []
          },
          "execution_count": 18
        }
      ]
    },
    {
      "cell_type": "markdown",
      "metadata": {
        "id": "JsI5ef2onoS-",
        "colab_type": "text"
      },
      "source": [
        "**Univariate Data Visualization**"
      ]
    },
    {
      "cell_type": "code",
      "metadata": {
        "id": "4MtHomfXgZ4D",
        "colab_type": "code",
        "colab": {
          "base_uri": "https://localhost:8080/",
          "height": 693
        },
        "outputId": "09911c36-ea35-4d50-b61e-bdee92f2c406"
      },
      "source": [
        "df[num].hist(figsize=(20,10))"
      ],
      "execution_count": 19,
      "outputs": [
        {
          "output_type": "execute_result",
          "data": {
            "text/plain": [
              "array([[<matplotlib.axes._subplots.AxesSubplot object at 0x7ff689ca52b0>,\n",
              "        <matplotlib.axes._subplots.AxesSubplot object at 0x7ff689bff518>],\n",
              "       [<matplotlib.axes._subplots.AxesSubplot object at 0x7ff689c33780>,\n",
              "        <matplotlib.axes._subplots.AxesSubplot object at 0x7ff689be69e8>]],\n",
              "      dtype=object)"
            ]
          },
          "metadata": {
            "tags": []
          },
          "execution_count": 19
        },
        {
          "output_type": "display_data",
          "data": {
            "image/png": "[encoded data removed]",
            "text/plain": [
              "<Figure size 1440x720 with 4 Axes>"
            ]
          },
          "metadata": {
            "tags": [],
            "needs_background": "light"
          }
        }
      ]
    },
    {
      "cell_type": "code",
      "metadata": {
        "id": "Oe5__69jobC-",
        "colab_type": "code",
        "colab": {
          "base_uri": "https://localhost:8080/",
          "height": 608
        },
        "outputId": "18893c8c-eda5-44c5-b5fb-90c27ff111e2"
      },
      "source": [
        "fig, ax = plt.subplots(2, 2, figsize=(20, 10))\n",
        "for i, subplot in zip(num, ax.flatten()):\n",
        "    sns.distplot(df[i], ax=subplot)\n",
        "    for label in subplot.get_xticklabels():\n",
        "        label.set_rotation(90)"
      ],
      "execution_count": 20,
      "outputs": [
        {
          "output_type": "display_data",
          "data": {
            "image/png": "[encoded data removed]",
            "text/plain": [
              "<Figure size 1440x720 with 4 Axes>"
            ]
          },
          "metadata": {
            "tags": [],
            "needs_background": "light"
          }
        }
      ]
    },
    {
      "cell_type": "code",
      "metadata": {
        "id": "fIyWKwNatMBl",
        "colab_type": "code",
        "colab": {
          "base_uri": "https://localhost:8080/",
          "height": 618
        },
        "outputId": "a938b231-6923-475e-bdcb-591a128c3996"
      },
      "source": [
        "fig, ax = plt.subplots(2, 2, figsize=(20, 10))\n",
        "for i, subplot in zip(num, ax.flatten()):\n",
        "    sns.boxplot(df[i], ax=subplot)\n",
        "    for label in subplot.get_xticklabels():\n",
        "        label.set_rotation(90)"
      ],
      "execution_count": 21,
      "outputs": [
        {
          "output_type": "display_data",
          "data": {
            "image/png": "[encoded data removed]",
            "text/plain": [
              "<Figure size 1440x720 with 4 Axes>"
            ]
          },
          "metadata": {
            "tags": [],
            "needs_background": "light"
          }
        }
      ]
    },
    {
      "cell_type": "code",
      "metadata": {
        "id": "X9GbO74cr1Pv",
        "colab_type": "code",
        "colab": {
          "base_uri": "https://localhost:8080/",
          "height": 1000
        },
        "outputId": "c3c3c642-ee07-428a-9ac2-755dc205f159"
      },
      "source": [
        "fig, ax = plt.subplots(3, 2, figsize=(20, 20))\n",
        "for i, subplot in zip(cat, ax.flatten()):\n",
        "    sns.countplot(df[i], ax=subplot)\n",
        "    for label in subplot.get_xticklabels():\n",
        "        label.set_rotation(90)"
      ],
      "execution_count": 22,
      "outputs": [
        {
          "output_type": "display_data",
          "data": {
            "image/png": "[encoded data removed]",
            "text/plain": [
              "<Figure size 1440x1440 with 6 Axes>"
            ]
          },
          "metadata": {
            "tags": [],
            "needs_background": "light"
          }
        }
      ]
    },
    {
      "cell_type": "markdown",
      "metadata": {
        "id": "g5PG0nMut-g8",
        "colab_type": "text"
      },
      "source": [
        "**Multi-variate Data visualisation**"
      ]
    },
    {
      "cell_type": "code",
      "metadata": {
        "id": "AnPukDLHszmf",
        "colab_type": "code",
        "colab": {
          "base_uri": "https://localhost:8080/",
          "height": 1000
        },
        "outputId": "17260727-0637-49c6-bfbc-b3d81d391546"
      },
      "source": [
        "sns.pairplot(df)"
      ],
      "execution_count": 23,
      "outputs": [
        {
          "output_type": "execute_result",
          "data": {
            "text/plain": [
              "<seaborn.axisgrid.PairGrid at 0x7ff689a23128>"
            ]
          },
          "metadata": {
            "tags": []
          },
          "execution_count": 23
        },
        {
          "output_type": "display_data",
          "data": {
            "image/png": "[encoded data removed]",
            "text/plain": [
              "<Figure size 1260x1260 with 56 Axes>"
            ]
          },
          "metadata": {
            "tags": [],
            "needs_background": "light"
          }
        }
      ]
    },
    {
      "cell_type": "code",
      "metadata": {
        "id": "WwbvdubFtkL0",
        "colab_type": "code",
        "colab": {
          "base_uri": "https://localhost:8080/",
          "height": 764
        },
        "outputId": "5923bd41-eb26-416e-d3f3-9b79bfd53b44"
      },
      "source": [
        "sns.pairplot(df[num])"
      ],
      "execution_count": 24,
      "outputs": [
        {
          "output_type": "execute_result",
          "data": {
            "text/plain": [
              "<seaborn.axisgrid.PairGrid at 0x7ff6843a5940>"
            ]
          },
          "metadata": {
            "tags": []
          },
          "execution_count": 24
        },
        {
          "output_type": "display_data",
          "data": {
            "image/png": "[encoded data removed]",
            "text/plain": [
              "<Figure size 720x720 with 20 Axes>"
            ]
          },
          "metadata": {
            "tags": [],
            "needs_background": "light"
          }
        }
      ]
    },
    {
      "cell_type": "markdown",
      "metadata": {
        "id": "fzcm4WYxwmZf",
        "colab_type": "text"
      },
      "source": [
        "**Outlier Treatment**"
      ]
    },
    {
      "cell_type": "code",
      "metadata": {
        "id": "HWZWqUaLuVv8",
        "colab_type": "code",
        "colab": {}
      },
      "source": [
        "def remove_outlier(col):\n",
        "    sorted(col)\n",
        "    Q1,Q3=np.percentile(col,[25,75])\n",
        "    IQR=Q3-Q1\n",
        "    lower_range= Q1-(1.5 * IQR)\n",
        "    upper_range= Q3+(1.5 * IQR)\n",
        "    return lower_range, upper_range"
      ],
      "execution_count": 25,
      "outputs": []
    },
    {
      "cell_type": "code",
      "metadata": {
        "id": "cCuQqZO8wx-g",
        "colab_type": "code",
        "colab": {}
      },
      "source": [
        "for column in df.columns:\n",
        "    if df[column].dtype != 'object': \n",
        "        lr,ur=remove_outlier(df[column])\n",
        "        df[column]=np.where(df[column]>ur,ur,df[column])\n",
        "        df[column]=np.where(df[column]<lr,lr,df[column])\n"
      ],
      "execution_count": 26,
      "outputs": []
    },
    {
      "cell_type": "code",
      "metadata": {
        "id": "u3GUrjKUw_X7",
        "colab_type": "code",
        "colab": {
          "base_uri": "https://localhost:8080/",
          "height": 282
        },
        "outputId": "59551bd0-9687-4c8e-86bd-e61bba143cbb"
      },
      "source": [
        "df[num].boxplot()"
      ],
      "execution_count": 27,
      "outputs": [
        {
          "output_type": "execute_result",
          "data": {
            "text/plain": [
              "<matplotlib.axes._subplots.AxesSubplot at 0x7ff683bd2c88>"
            ]
          },
          "metadata": {
            "tags": []
          },
          "execution_count": 27
        },
        {
          "output_type": "display_data",
          "data": {
            "image/png": "[encoded data removed]",
            "text/plain": [
              "<Figure size 432x288 with 1 Axes>"
            ]
          },
          "metadata": {
            "tags": [],
            "needs_background": "light"
          }
        }
      ]
    },
    {
      "cell_type": "markdown",
      "metadata": {
        "id": "BK3kjHnHxRUL",
        "colab_type": "text"
      },
      "source": [
        "**Checking for Correlations**"
      ]
    },
    {
      "cell_type": "code",
      "metadata": {
        "id": "6wQvZS24G6OD",
        "colab_type": "code",
        "colab": {
          "base_uri": "https://localhost:8080/"
        },
        "outputId": "f30efd0d-e467-4527-d992-9b75ce68b99a"
      },
      "source": [
        "sns.heatmap(df.corr(), annot=True)"
      ],
      "execution_count": 28,
      "outputs": [
        {
          "output_type": "execute_result",
          "data": {
            "text/plain": [
              "<matplotlib.axes._subplots.AxesSubplot at 0x7ff683acdcf8>"
            ]
          },
          "metadata": {
            "tags": []
          },
          "execution_count": 28
        },
        {
          "output_type": "display_data",
          "data": {
            "image/png": "[encoded data removed]",
            "text/plain": [
              "<Figure size 432x288 with 2 Axes>"
            ]
          },
          "metadata": {
            "tags": [],
            "needs_background": "light"
          }
        }
      ]
    },
    {
      "cell_type": "markdown",
      "metadata": {
        "id": "PMTwsQi8JCBK",
        "colab_type": "text"
      },
      "source": [
        "# **One Hot Encoding**"
      ]
    },
    {
      "cell_type": "code",
      "metadata": {
        "id": "I84GHUgfHu0v",
        "colab_type": "code",
        "colab": {}
      },
      "source": [
        "#dropping the target variable form the list cat\n",
        "cat.remove('Transport')"
      ],
      "execution_count": 29,
      "outputs": []
    },
    {
      "cell_type": "code",
      "metadata": {
        "id": "13-lVZ_yIGyd",
        "colab_type": "code",
        "colab": {
          "base_uri": "https://localhost:8080/",
          "height": 51
        },
        "outputId": "04ced642-1d48-4a74-fa79-34447bcf2f24"
      },
      "source": [
        "print(\"cat\",cat)\n",
        "print(\"num\",num)"
      ],
      "execution_count": 30,
      "outputs": [
        {
          "output_type": "stream",
          "text": [
            "cat ['Gender', 'Engineer', 'MBA', 'license']\n",
            "num ['Age', 'Work Exp', 'Salary', 'Distance']\n"
          ],
          "name": "stdout"
        }
      ]
    },
    {
      "cell_type": "code",
      "metadata": {
        "id": "F9Xk58jkINoa",
        "colab_type": "code",
        "colab": {
          "base_uri": "https://localhost:8080/",
          "height": 359
        },
        "outputId": "2b802f0e-fa2c-4c02-9213-c0378750ce72"
      },
      "source": [
        "df.head(10)"
      ],
      "execution_count": 31,
      "outputs": [
        {
          "output_type": "execute_result",
          "data": {
            "text/html": [
              "<div>\n",
              "<style scoped>\n",
              "    .dataframe tbody tr th:only-of-type {\n",
              "        vertical-align: middle;\n",
              "    }\n",
              "\n",
              "    .dataframe tbody tr th {\n",
              "        vertical-align: top;\n",
              "    }\n",
              "\n",
              "    .dataframe thead th {\n",
              "        text-align: right;\n",
              "    }\n",
              "</style>\n",
              "<table border=\"1\" class=\"dataframe\">\n",
              "  <thead>\n",
              "    <tr style=\"text-align: right;\">\n",
              "      <th></th>\n",
              "      <th>Age</th>\n",
              "      <th>Gender</th>\n",
              "      <th>Engineer</th>\n",
              "      <th>MBA</th>\n",
              "      <th>Work Exp</th>\n",
              "      <th>Salary</th>\n",
              "      <th>Distance</th>\n",
              "      <th>license</th>\n",
              "      <th>Transport</th>\n",
              "    </tr>\n",
              "  </thead>\n",
              "  <tbody>\n",
              "    <tr>\n",
              "      <th>0</th>\n",
              "      <td>28.0</td>\n",
              "      <td>Male</td>\n",
              "      <td>0</td>\n",
              "      <td>0</td>\n",
              "      <td>4.0</td>\n",
              "      <td>14.3</td>\n",
              "      <td>3.2</td>\n",
              "      <td>0</td>\n",
              "      <td>Public Transport</td>\n",
              "    </tr>\n",
              "    <tr>\n",
              "      <th>1</th>\n",
              "      <td>23.0</td>\n",
              "      <td>Female</td>\n",
              "      <td>1</td>\n",
              "      <td>0</td>\n",
              "      <td>4.0</td>\n",
              "      <td>8.3</td>\n",
              "      <td>3.3</td>\n",
              "      <td>0</td>\n",
              "      <td>Public Transport</td>\n",
              "    </tr>\n",
              "    <tr>\n",
              "      <th>2</th>\n",
              "      <td>29.0</td>\n",
              "      <td>Male</td>\n",
              "      <td>1</td>\n",
              "      <td>0</td>\n",
              "      <td>7.0</td>\n",
              "      <td>13.4</td>\n",
              "      <td>4.1</td>\n",
              "      <td>0</td>\n",
              "      <td>Public Transport</td>\n",
              "    </tr>\n",
              "    <tr>\n",
              "      <th>3</th>\n",
              "      <td>28.0</td>\n",
              "      <td>Female</td>\n",
              "      <td>1</td>\n",
              "      <td>1</td>\n",
              "      <td>5.0</td>\n",
              "      <td>13.4</td>\n",
              "      <td>4.5</td>\n",
              "      <td>0</td>\n",
              "      <td>Public Transport</td>\n",
              "    </tr>\n",
              "    <tr>\n",
              "      <th>4</th>\n",
              "      <td>27.0</td>\n",
              "      <td>Male</td>\n",
              "      <td>1</td>\n",
              "      <td>0</td>\n",
              "      <td>4.0</td>\n",
              "      <td>13.4</td>\n",
              "      <td>4.6</td>\n",
              "      <td>0</td>\n",
              "      <td>Public Transport</td>\n",
              "    </tr>\n",
              "    <tr>\n",
              "      <th>5</th>\n",
              "      <td>26.0</td>\n",
              "      <td>Male</td>\n",
              "      <td>1</td>\n",
              "      <td>0</td>\n",
              "      <td>4.0</td>\n",
              "      <td>12.3</td>\n",
              "      <td>4.8</td>\n",
              "      <td>1</td>\n",
              "      <td>Public Transport</td>\n",
              "    </tr>\n",
              "    <tr>\n",
              "      <th>6</th>\n",
              "      <td>28.0</td>\n",
              "      <td>Male</td>\n",
              "      <td>1</td>\n",
              "      <td>0</td>\n",
              "      <td>5.0</td>\n",
              "      <td>14.4</td>\n",
              "      <td>5.1</td>\n",
              "      <td>0</td>\n",
              "      <td>Private Transport</td>\n",
              "    </tr>\n",
              "    <tr>\n",
              "      <th>7</th>\n",
              "      <td>26.0</td>\n",
              "      <td>Female</td>\n",
              "      <td>1</td>\n",
              "      <td>0</td>\n",
              "      <td>3.0</td>\n",
              "      <td>10.5</td>\n",
              "      <td>5.1</td>\n",
              "      <td>0</td>\n",
              "      <td>Public Transport</td>\n",
              "    </tr>\n",
              "    <tr>\n",
              "      <th>8</th>\n",
              "      <td>22.0</td>\n",
              "      <td>Male</td>\n",
              "      <td>1</td>\n",
              "      <td>0</td>\n",
              "      <td>1.0</td>\n",
              "      <td>7.5</td>\n",
              "      <td>5.1</td>\n",
              "      <td>0</td>\n",
              "      <td>Public Transport</td>\n",
              "    </tr>\n",
              "    <tr>\n",
              "      <th>9</th>\n",
              "      <td>27.0</td>\n",
              "      <td>Male</td>\n",
              "      <td>1</td>\n",
              "      <td>0</td>\n",
              "      <td>4.0</td>\n",
              "      <td>13.5</td>\n",
              "      <td>5.2</td>\n",
              "      <td>0</td>\n",
              "      <td>Public Transport</td>\n",
              "    </tr>\n",
              "  </tbody>\n",
              "</table>\n",
              "</div>"
            ],
            "text/plain": [
              "    Age  Gender Engineer MBA  ...  Salary  Distance  license          Transport\n",
              "0  28.0    Male        0   0  ...    14.3       3.2        0   Public Transport\n",
              "1  23.0  Female        1   0  ...     8.3       3.3        0   Public Transport\n",
              "2  29.0    Male        1   0  ...    13.4       4.1        0   Public Transport\n",
              "3  28.0  Female        1   1  ...    13.4       4.5        0   Public Transport\n",
              "4  27.0    Male        1   0  ...    13.4       4.6        0   Public Transport\n",
              "5  26.0    Male        1   0  ...    12.3       4.8        1   Public Transport\n",
              "6  28.0    Male        1   0  ...    14.4       5.1        0  Private Transport\n",
              "7  26.0  Female        1   0  ...    10.5       5.1        0   Public Transport\n",
              "8  22.0    Male        1   0  ...     7.5       5.1        0   Public Transport\n",
              "9  27.0    Male        1   0  ...    13.5       5.2        0   Public Transport\n",
              "\n",
              "[10 rows x 9 columns]"
            ]
          },
          "metadata": {
            "tags": []
          },
          "execution_count": 31
        }
      ]
    },
    {
      "cell_type": "code",
      "metadata": {
        "id": "UKxFBcCWJV9E",
        "colab_type": "code",
        "colab": {}
      },
      "source": [
        "df =pd.get_dummies(df, columns=cat,drop_first=True)"
      ],
      "execution_count": 32,
      "outputs": []
    },
    {
      "cell_type": "code",
      "metadata": {
        "id": "Bjw-StPiJZbj",
        "colab_type": "code",
        "colab": {
          "base_uri": "https://localhost:8080/",
          "height": 359
        },
        "outputId": "1374eba4-17b0-4de2-86d9-592f4205d29f"
      },
      "source": [
        "df.head(10)"
      ],
      "execution_count": 33,
      "outputs": [
        {
          "output_type": "execute_result",
          "data": {
            "text/html": [
              "<div>\n",
              "<style scoped>\n",
              "    .dataframe tbody tr th:only-of-type {\n",
              "        vertical-align: middle;\n",
              "    }\n",
              "\n",
              "    .dataframe tbody tr th {\n",
              "        vertical-align: top;\n",
              "    }\n",
              "\n",
              "    .dataframe thead th {\n",
              "        text-align: right;\n",
              "    }\n",
              "</style>\n",
              "<table border=\"1\" class=\"dataframe\">\n",
              "  <thead>\n",
              "    <tr style=\"text-align: right;\">\n",
              "      <th></th>\n",
              "      <th>Age</th>\n",
              "      <th>Work Exp</th>\n",
              "      <th>Salary</th>\n",
              "      <th>Distance</th>\n",
              "      <th>Transport</th>\n",
              "      <th>Gender_Male</th>\n",
              "      <th>Engineer_1</th>\n",
              "      <th>MBA_1</th>\n",
              "      <th>license_1</th>\n",
              "    </tr>\n",
              "  </thead>\n",
              "  <tbody>\n",
              "    <tr>\n",
              "      <th>0</th>\n",
              "      <td>28.0</td>\n",
              "      <td>4.0</td>\n",
              "      <td>14.3</td>\n",
              "      <td>3.2</td>\n",
              "      <td>Public Transport</td>\n",
              "      <td>1</td>\n",
              "      <td>0</td>\n",
              "      <td>0</td>\n",
              "      <td>0</td>\n",
              "    </tr>\n",
              "    <tr>\n",
              "      <th>1</th>\n",
              "      <td>23.0</td>\n",
              "      <td>4.0</td>\n",
              "      <td>8.3</td>\n",
              "      <td>3.3</td>\n",
              "      <td>Public Transport</td>\n",
              "      <td>0</td>\n",
              "      <td>1</td>\n",
              "      <td>0</td>\n",
              "      <td>0</td>\n",
              "    </tr>\n",
              "    <tr>\n",
              "      <th>2</th>\n",
              "      <td>29.0</td>\n",
              "      <td>7.0</td>\n",
              "      <td>13.4</td>\n",
              "      <td>4.1</td>\n",
              "      <td>Public Transport</td>\n",
              "      <td>1</td>\n",
              "      <td>1</td>\n",
              "      <td>0</td>\n",
              "      <td>0</td>\n",
              "    </tr>\n",
              "    <tr>\n",
              "      <th>3</th>\n",
              "      <td>28.0</td>\n",
              "      <td>5.0</td>\n",
              "      <td>13.4</td>\n",
              "      <td>4.5</td>\n",
              "      <td>Public Transport</td>\n",
              "      <td>0</td>\n",
              "      <td>1</td>\n",
              "      <td>1</td>\n",
              "      <td>0</td>\n",
              "    </tr>\n",
              "    <tr>\n",
              "      <th>4</th>\n",
              "      <td>27.0</td>\n",
              "      <td>4.0</td>\n",
              "      <td>13.4</td>\n",
              "      <td>4.6</td>\n",
              "      <td>Public Transport</td>\n",
              "      <td>1</td>\n",
              "      <td>1</td>\n",
              "      <td>0</td>\n",
              "      <td>0</td>\n",
              "    </tr>\n",
              "    <tr>\n",
              "      <th>5</th>\n",
              "      <td>26.0</td>\n",
              "      <td>4.0</td>\n",
              "      <td>12.3</td>\n",
              "      <td>4.8</td>\n",
              "      <td>Public Transport</td>\n",
              "      <td>1</td>\n",
              "      <td>1</td>\n",
              "      <td>0</td>\n",
              "      <td>1</td>\n",
              "    </tr>\n",
              "    <tr>\n",
              "      <th>6</th>\n",
              "      <td>28.0</td>\n",
              "      <td>5.0</td>\n",
              "      <td>14.4</td>\n",
              "      <td>5.1</td>\n",
              "      <td>Private Transport</td>\n",
              "      <td>1</td>\n",
              "      <td>1</td>\n",
              "      <td>0</td>\n",
              "      <td>0</td>\n",
              "    </tr>\n",
              "    <tr>\n",
              "      <th>7</th>\n",
              "      <td>26.0</td>\n",
              "      <td>3.0</td>\n",
              "      <td>10.5</td>\n",
              "      <td>5.1</td>\n",
              "      <td>Public Transport</td>\n",
              "      <td>0</td>\n",
              "      <td>1</td>\n",
              "      <td>0</td>\n",
              "      <td>0</td>\n",
              "    </tr>\n",
              "    <tr>\n",
              "      <th>8</th>\n",
              "      <td>22.0</td>\n",
              "      <td>1.0</td>\n",
              "      <td>7.5</td>\n",
              "      <td>5.1</td>\n",
              "      <td>Public Transport</td>\n",
              "      <td>1</td>\n",
              "      <td>1</td>\n",
              "      <td>0</td>\n",
              "      <td>0</td>\n",
              "    </tr>\n",
              "    <tr>\n",
              "      <th>9</th>\n",
              "      <td>27.0</td>\n",
              "      <td>4.0</td>\n",
              "      <td>13.5</td>\n",
              "      <td>5.2</td>\n",
              "      <td>Public Transport</td>\n",
              "      <td>1</td>\n",
              "      <td>1</td>\n",
              "      <td>0</td>\n",
              "      <td>0</td>\n",
              "    </tr>\n",
              "  </tbody>\n",
              "</table>\n",
              "</div>"
            ],
            "text/plain": [
              "    Age  Work Exp  Salary  Distance  ... Gender_Male  Engineer_1  MBA_1  license_1\n",
              "0  28.0       4.0    14.3       3.2  ...           1           0      0          0\n",
              "1  23.0       4.0     8.3       3.3  ...           0           1      0          0\n",
              "2  29.0       7.0    13.4       4.1  ...           1           1      0          0\n",
              "3  28.0       5.0    13.4       4.5  ...           0           1      1          0\n",
              "4  27.0       4.0    13.4       4.6  ...           1           1      0          0\n",
              "5  26.0       4.0    12.3       4.8  ...           1           1      0          1\n",
              "6  28.0       5.0    14.4       5.1  ...           1           1      0          0\n",
              "7  26.0       3.0    10.5       5.1  ...           0           1      0          0\n",
              "8  22.0       1.0     7.5       5.1  ...           1           1      0          0\n",
              "9  27.0       4.0    13.5       5.2  ...           1           1      0          0\n",
              "\n",
              "[10 rows x 9 columns]"
            ]
          },
          "metadata": {
            "tags": []
          },
          "execution_count": 33
        }
      ]
    },
    {
      "cell_type": "markdown",
      "metadata": {
        "id": "SqSxanNhIgmE",
        "colab_type": "text"
      },
      "source": [
        "Getting codes for Transport"
      ]
    },
    {
      "cell_type": "code",
      "metadata": {
        "id": "6RGmsNdIIxQR",
        "colab_type": "code",
        "colab": {}
      },
      "source": [
        "df['Transport'] = pd.Categorical(df['Transport']).codes"
      ],
      "execution_count": 34,
      "outputs": []
    },
    {
      "cell_type": "code",
      "metadata": {
        "id": "kSB3tMg3KVZv",
        "colab_type": "code",
        "colab": {
          "base_uri": "https://localhost:8080/",
          "height": 359
        },
        "outputId": "4f453d68-acd2-4c94-9f4e-2f648364cae1"
      },
      "source": [
        "df.head(10)"
      ],
      "execution_count": 35,
      "outputs": [
        {
          "output_type": "execute_result",
          "data": {
            "text/html": [
              "<div>\n",
              "<style scoped>\n",
              "    .dataframe tbody tr th:only-of-type {\n",
              "        vertical-align: middle;\n",
              "    }\n",
              "\n",
              "    .dataframe tbody tr th {\n",
              "        vertical-align: top;\n",
              "    }\n",
              "\n",
              "    .dataframe thead th {\n",
              "        text-align: right;\n",
              "    }\n",
              "</style>\n",
              "<table border=\"1\" class=\"dataframe\">\n",
              "  <thead>\n",
              "    <tr style=\"text-align: right;\">\n",
              "      <th></th>\n",
              "      <th>Age</th>\n",
              "      <th>Work Exp</th>\n",
              "      <th>Salary</th>\n",
              "      <th>Distance</th>\n",
              "      <th>Transport</th>\n",
              "      <th>Gender_Male</th>\n",
              "      <th>Engineer_1</th>\n",
              "      <th>MBA_1</th>\n",
              "      <th>license_1</th>\n",
              "    </tr>\n",
              "  </thead>\n",
              "  <tbody>\n",
              "    <tr>\n",
              "      <th>0</th>\n",
              "      <td>28.0</td>\n",
              "      <td>4.0</td>\n",
              "      <td>14.3</td>\n",
              "      <td>3.2</td>\n",
              "      <td>1</td>\n",
              "      <td>1</td>\n",
              "      <td>0</td>\n",
              "      <td>0</td>\n",
              "      <td>0</td>\n",
              "    </tr>\n",
              "    <tr>\n",
              "      <th>1</th>\n",
              "      <td>23.0</td>\n",
              "      <td>4.0</td>\n",
              "      <td>8.3</td>\n",
              "      <td>3.3</td>\n",
              "      <td>1</td>\n",
              "      <td>0</td>\n",
              "      <td>1</td>\n",
              "      <td>0</td>\n",
              "      <td>0</td>\n",
              "    </tr>\n",
              "    <tr>\n",
              "      <th>2</th>\n",
              "      <td>29.0</td>\n",
              "      <td>7.0</td>\n",
              "      <td>13.4</td>\n",
              "      <td>4.1</td>\n",
              "      <td>1</td>\n",
              "      <td>1</td>\n",
              "      <td>1</td>\n",
              "      <td>0</td>\n",
              "      <td>0</td>\n",
              "    </tr>\n",
              "    <tr>\n",
              "      <th>3</th>\n",
              "      <td>28.0</td>\n",
              "      <td>5.0</td>\n",
              "      <td>13.4</td>\n",
              "      <td>4.5</td>\n",
              "      <td>1</td>\n",
              "      <td>0</td>\n",
              "      <td>1</td>\n",
              "      <td>1</td>\n",
              "      <td>0</td>\n",
              "    </tr>\n",
              "    <tr>\n",
              "      <th>4</th>\n",
              "      <td>27.0</td>\n",
              "      <td>4.0</td>\n",
              "      <td>13.4</td>\n",
              "      <td>4.6</td>\n",
              "      <td>1</td>\n",
              "      <td>1</td>\n",
              "      <td>1</td>\n",
              "      <td>0</td>\n",
              "      <td>0</td>\n",
              "    </tr>\n",
              "    <tr>\n",
              "      <th>5</th>\n",
              "      <td>26.0</td>\n",
              "      <td>4.0</td>\n",
              "      <td>12.3</td>\n",
              "      <td>4.8</td>\n",
              "      <td>1</td>\n",
              "      <td>1</td>\n",
              "      <td>1</td>\n",
              "      <td>0</td>\n",
              "      <td>1</td>\n",
              "    </tr>\n",
              "    <tr>\n",
              "      <th>6</th>\n",
              "      <td>28.0</td>\n",
              "      <td>5.0</td>\n",
              "      <td>14.4</td>\n",
              "      <td>5.1</td>\n",
              "      <td>0</td>\n",
              "      <td>1</td>\n",
              "      <td>1</td>\n",
              "      <td>0</td>\n",
              "      <td>0</td>\n",
              "    </tr>\n",
              "    <tr>\n",
              "      <th>7</th>\n",
              "      <td>26.0</td>\n",
              "      <td>3.0</td>\n",
              "      <td>10.5</td>\n",
              "      <td>5.1</td>\n",
              "      <td>1</td>\n",
              "      <td>0</td>\n",
              "      <td>1</td>\n",
              "      <td>0</td>\n",
              "      <td>0</td>\n",
              "    </tr>\n",
              "    <tr>\n",
              "      <th>8</th>\n",
              "      <td>22.0</td>\n",
              "      <td>1.0</td>\n",
              "      <td>7.5</td>\n",
              "      <td>5.1</td>\n",
              "      <td>1</td>\n",
              "      <td>1</td>\n",
              "      <td>1</td>\n",
              "      <td>0</td>\n",
              "      <td>0</td>\n",
              "    </tr>\n",
              "    <tr>\n",
              "      <th>9</th>\n",
              "      <td>27.0</td>\n",
              "      <td>4.0</td>\n",
              "      <td>13.5</td>\n",
              "      <td>5.2</td>\n",
              "      <td>1</td>\n",
              "      <td>1</td>\n",
              "      <td>1</td>\n",
              "      <td>0</td>\n",
              "      <td>0</td>\n",
              "    </tr>\n",
              "  </tbody>\n",
              "</table>\n",
              "</div>"
            ],
            "text/plain": [
              "    Age  Work Exp  Salary  Distance  ...  Gender_Male  Engineer_1  MBA_1  license_1\n",
              "0  28.0       4.0    14.3       3.2  ...            1           0      0          0\n",
              "1  23.0       4.0     8.3       3.3  ...            0           1      0          0\n",
              "2  29.0       7.0    13.4       4.1  ...            1           1      0          0\n",
              "3  28.0       5.0    13.4       4.5  ...            0           1      1          0\n",
              "4  27.0       4.0    13.4       4.6  ...            1           1      0          0\n",
              "5  26.0       4.0    12.3       4.8  ...            1           1      0          1\n",
              "6  28.0       5.0    14.4       5.1  ...            1           1      0          0\n",
              "7  26.0       3.0    10.5       5.1  ...            0           1      0          0\n",
              "8  22.0       1.0     7.5       5.1  ...            1           1      0          0\n",
              "9  27.0       4.0    13.5       5.2  ...            1           1      0          0\n",
              "\n",
              "[10 rows x 9 columns]"
            ]
          },
          "metadata": {
            "tags": []
          },
          "execution_count": 35
        }
      ]
    },
    {
      "cell_type": "markdown",
      "metadata": {
        "id": "72aeFtVRBdam",
        "colab_type": "text"
      },
      "source": [
        "# **Scaling of the data**\n",
        "\n"
      ]
    },
    {
      "cell_type": "code",
      "metadata": {
        "id": "aE8H5t0wKw4l",
        "colab_type": "code",
        "colab": {
          "base_uri": "https://localhost:8080/",
          "height": 34
        },
        "outputId": "62d92bb5-16d6-4944-c6f0-b3b6b3bbf89d"
      },
      "source": [
        "print(num)"
      ],
      "execution_count": 36,
      "outputs": [
        {
          "output_type": "stream",
          "text": [
            "['Age', 'Work Exp', 'Salary', 'Distance']\n"
          ],
          "name": "stdout"
        }
      ]
    },
    {
      "cell_type": "markdown",
      "metadata": {
        "id": "Rck1pxayK6SA",
        "colab_type": "text"
      },
      "source": [
        "Removing Age and Salary, since they are the highly correlated variables"
      ]
    },
    {
      "cell_type": "code",
      "metadata": {
        "id": "a1GmMkl8K0Tz",
        "colab_type": "code",
        "colab": {}
      },
      "source": [
        "num1= ['Work Exp', 'Distance']"
      ],
      "execution_count": 37,
      "outputs": []
    },
    {
      "cell_type": "code",
      "metadata": {
        "id": "ywOHdqmrLN2a",
        "colab_type": "code",
        "colab": {}
      },
      "source": [
        "df[num1] = df[num1].apply(lambda x:(x-x.min()) / (x.max()-x.min()))"
      ],
      "execution_count": 38,
      "outputs": []
    },
    {
      "cell_type": "code",
      "metadata": {
        "id": "DZ_hK4n3LQKb",
        "colab_type": "code",
        "colab": {
          "base_uri": "https://localhost:8080/",
          "height": 204
        },
        "outputId": "a867c0bc-17cd-47cf-cebc-d5e108509dd5"
      },
      "source": [
        "df2=df.drop(['Age','Salary'], axis=1)\n",
        "df2.head()"
      ],
      "execution_count": 39,
      "outputs": [
        {
          "output_type": "execute_result",
          "data": {
            "text/html": [
              "<div>\n",
              "<style scoped>\n",
              "    .dataframe tbody tr th:only-of-type {\n",
              "        vertical-align: middle;\n",
              "    }\n",
              "\n",
              "    .dataframe tbody tr th {\n",
              "        vertical-align: top;\n",
              "    }\n",
              "\n",
              "    .dataframe thead th {\n",
              "        text-align: right;\n",
              "    }\n",
              "</style>\n",
              "<table border=\"1\" class=\"dataframe\">\n",
              "  <thead>\n",
              "    <tr style=\"text-align: right;\">\n",
              "      <th></th>\n",
              "      <th>Work Exp</th>\n",
              "      <th>Distance</th>\n",
              "      <th>Transport</th>\n",
              "      <th>Gender_Male</th>\n",
              "      <th>Engineer_1</th>\n",
              "      <th>MBA_1</th>\n",
              "      <th>license_1</th>\n",
              "    </tr>\n",
              "  </thead>\n",
              "  <tbody>\n",
              "    <tr>\n",
              "      <th>0</th>\n",
              "      <td>0.258065</td>\n",
              "      <td>0.000000</td>\n",
              "      <td>1</td>\n",
              "      <td>1</td>\n",
              "      <td>0</td>\n",
              "      <td>0</td>\n",
              "      <td>0</td>\n",
              "    </tr>\n",
              "    <tr>\n",
              "      <th>1</th>\n",
              "      <td>0.258065</td>\n",
              "      <td>0.005827</td>\n",
              "      <td>1</td>\n",
              "      <td>0</td>\n",
              "      <td>1</td>\n",
              "      <td>0</td>\n",
              "      <td>0</td>\n",
              "    </tr>\n",
              "    <tr>\n",
              "      <th>2</th>\n",
              "      <td>0.451613</td>\n",
              "      <td>0.052440</td>\n",
              "      <td>1</td>\n",
              "      <td>1</td>\n",
              "      <td>1</td>\n",
              "      <td>0</td>\n",
              "      <td>0</td>\n",
              "    </tr>\n",
              "    <tr>\n",
              "      <th>3</th>\n",
              "      <td>0.322581</td>\n",
              "      <td>0.075747</td>\n",
              "      <td>1</td>\n",
              "      <td>0</td>\n",
              "      <td>1</td>\n",
              "      <td>1</td>\n",
              "      <td>0</td>\n",
              "    </tr>\n",
              "    <tr>\n",
              "      <th>4</th>\n",
              "      <td>0.258065</td>\n",
              "      <td>0.081573</td>\n",
              "      <td>1</td>\n",
              "      <td>1</td>\n",
              "      <td>1</td>\n",
              "      <td>0</td>\n",
              "      <td>0</td>\n",
              "    </tr>\n",
              "  </tbody>\n",
              "</table>\n",
              "</div>"
            ],
            "text/plain": [
              "   Work Exp  Distance  Transport  Gender_Male  Engineer_1  MBA_1  license_1\n",
              "0  0.258065  0.000000          1            1           0      0          0\n",
              "1  0.258065  0.005827          1            0           1      0          0\n",
              "2  0.451613  0.052440          1            1           1      0          0\n",
              "3  0.322581  0.075747          1            0           1      1          0\n",
              "4  0.258065  0.081573          1            1           1      0          0"
            ]
          },
          "metadata": {
            "tags": []
          },
          "execution_count": 39
        }
      ]
    },
    {
      "cell_type": "markdown",
      "metadata": {
        "id": "r8rdBPmSzzhK",
        "colab_type": "text"
      },
      "source": [
        "**Train Test Split**"
      ]
    },
    {
      "cell_type": "code",
      "metadata": {
        "id": "5xain5lmy8cf",
        "colab_type": "code",
        "colab": {}
      },
      "source": [
        "# Copy all the predictor variables into X dataframe\n",
        "X = df2.drop('Transport', axis=1)\n",
        "\n",
        "# Copy target into the y dataframe. \n",
        "y = df2['Transport']"
      ],
      "execution_count": 40,
      "outputs": []
    },
    {
      "cell_type": "code",
      "metadata": {
        "id": "BV36WX7Vz91d",
        "colab_type": "code",
        "colab": {
          "base_uri": "https://localhost:8080/",
          "height": 204
        },
        "outputId": "25707ca7-1843-483b-8436-41dbd23e3b4e"
      },
      "source": [
        "X.head()"
      ],
      "execution_count": 41,
      "outputs": [
        {
          "output_type": "execute_result",
          "data": {
            "text/html": [
              "<div>\n",
              "<style scoped>\n",
              "    .dataframe tbody tr th:only-of-type {\n",
              "        vertical-align: middle;\n",
              "    }\n",
              "\n",
              "    .dataframe tbody tr th {\n",
              "        vertical-align: top;\n",
              "    }\n",
              "\n",
              "    .dataframe thead th {\n",
              "        text-align: right;\n",
              "    }\n",
              "</style>\n",
              "<table border=\"1\" class=\"dataframe\">\n",
              "  <thead>\n",
              "    <tr style=\"text-align: right;\">\n",
              "      <th></th>\n",
              "      <th>Work Exp</th>\n",
              "      <th>Distance</th>\n",
              "      <th>Gender_Male</th>\n",
              "      <th>Engineer_1</th>\n",
              "      <th>MBA_1</th>\n",
              "      <th>license_1</th>\n",
              "    </tr>\n",
              "  </thead>\n",
              "  <tbody>\n",
              "    <tr>\n",
              "      <th>0</th>\n",
              "      <td>0.258065</td>\n",
              "      <td>0.000000</td>\n",
              "      <td>1</td>\n",
              "      <td>0</td>\n",
              "      <td>0</td>\n",
              "      <td>0</td>\n",
              "    </tr>\n",
              "    <tr>\n",
              "      <th>1</th>\n",
              "      <td>0.258065</td>\n",
              "      <td>0.005827</td>\n",
              "      <td>0</td>\n",
              "      <td>1</td>\n",
              "      <td>0</td>\n",
              "      <td>0</td>\n",
              "    </tr>\n",
              "    <tr>\n",
              "      <th>2</th>\n",
              "      <td>0.451613</td>\n",
              "      <td>0.052440</td>\n",
              "      <td>1</td>\n",
              "      <td>1</td>\n",
              "      <td>0</td>\n",
              "      <td>0</td>\n",
              "    </tr>\n",
              "    <tr>\n",
              "      <th>3</th>\n",
              "      <td>0.322581</td>\n",
              "      <td>0.075747</td>\n",
              "      <td>0</td>\n",
              "      <td>1</td>\n",
              "      <td>1</td>\n",
              "      <td>0</td>\n",
              "    </tr>\n",
              "    <tr>\n",
              "      <th>4</th>\n",
              "      <td>0.258065</td>\n",
              "      <td>0.081573</td>\n",
              "      <td>1</td>\n",
              "      <td>1</td>\n",
              "      <td>0</td>\n",
              "      <td>0</td>\n",
              "    </tr>\n",
              "  </tbody>\n",
              "</table>\n",
              "</div>"
            ],
            "text/plain": [
              "   Work Exp  Distance  Gender_Male  Engineer_1  MBA_1  license_1\n",
              "0  0.258065  0.000000            1           0      0          0\n",
              "1  0.258065  0.005827            0           1      0          0\n",
              "2  0.451613  0.052440            1           1      0          0\n",
              "3  0.322581  0.075747            0           1      1          0\n",
              "4  0.258065  0.081573            1           1      0          0"
            ]
          },
          "metadata": {
            "tags": []
          },
          "execution_count": 41
        }
      ]
    },
    {
      "cell_type": "code",
      "metadata": {
        "id": "4Dn7LUkmz_iy",
        "colab_type": "code",
        "colab": {
          "base_uri": "https://localhost:8080/",
          "height": 119
        },
        "outputId": "e2aebabb-ea45-4184-dafa-4479100a1dd7"
      },
      "source": [
        "y.head()"
      ],
      "execution_count": 42,
      "outputs": [
        {
          "output_type": "execute_result",
          "data": {
            "text/plain": [
              "0    1\n",
              "1    1\n",
              "2    1\n",
              "3    1\n",
              "4    1\n",
              "Name: Transport, dtype: int8"
            ]
          },
          "metadata": {
            "tags": []
          },
          "execution_count": 42
        }
      ]
    },
    {
      "cell_type": "code",
      "metadata": {
        "id": "7m9vA8bx0CI3",
        "colab_type": "code",
        "colab": {}
      },
      "source": [
        "# Split X and y into training and test set in 70:30 ratio\n",
        "from sklearn.model_selection import train_test_split\n",
        "X_train, X_test, y_train, y_test = train_test_split(X, y, test_size=0.30 , random_state=10)"
      ],
      "execution_count": 43,
      "outputs": []
    },
    {
      "cell_type": "markdown",
      "metadata": {
        "id": "G_9lnOGnMFEX",
        "colab_type": "text"
      },
      "source": [
        "# **Logistic Regression**"
      ]
    },
    {
      "cell_type": "code",
      "metadata": {
        "id": "GTFMgWvP62Ow",
        "colab_type": "code",
        "colab": {
          "base_uri": "https://localhost:8080/",
          "height": 136
        },
        "outputId": "2501daa7-778a-4be4-ff0e-f7d22badffd2"
      },
      "source": [
        "# Fit the Logistic Regression model\n",
        "from sklearn.linear_model import LogisticRegression\n",
        "model = LogisticRegression(solver='newton-cg',max_iter=10000,penalty='none',verbose=True,n_jobs=2)\n",
        "model.fit(X_train, y_train)"
      ],
      "execution_count": 44,
      "outputs": [
        {
          "output_type": "stream",
          "text": [
            "[Parallel(n_jobs=2)]: Using backend LokyBackend with 2 concurrent workers.\n",
            "[Parallel(n_jobs=2)]: Done   1 out of   1 | elapsed:    0.9s finished\n"
          ],
          "name": "stderr"
        },
        {
          "output_type": "execute_result",
          "data": {
            "text/plain": [
              "LogisticRegression(C=1.0, class_weight=None, dual=False, fit_intercept=True,\n",
              "                   intercept_scaling=1, l1_ratio=None, max_iter=10000,\n",
              "                   multi_class='auto', n_jobs=2, penalty='none',\n",
              "                   random_state=None, solver='newton-cg', tol=0.0001,\n",
              "                   verbose=True, warm_start=False)"
            ]
          },
          "metadata": {
            "tags": []
          },
          "execution_count": 44
        }
      ]
    },
    {
      "cell_type": "markdown",
      "metadata": {
        "id": "fo-5aepI7oyE",
        "colab_type": "text"
      },
      "source": [
        "Predicting on Training and Test dataset"
      ]
    },
    {
      "cell_type": "code",
      "metadata": {
        "id": "M5JKP87s7WDk",
        "colab_type": "code",
        "colab": {}
      },
      "source": [
        "ytrain_predict = model.predict(X_train)\n",
        "ytest_predict = model.predict(X_test)"
      ],
      "execution_count": 45,
      "outputs": []
    },
    {
      "cell_type": "markdown",
      "metadata": {
        "id": "FzxOzbiJ702k",
        "colab_type": "text"
      },
      "source": [
        "Getting the Predicted Classes and Probs"
      ]
    },
    {
      "cell_type": "code",
      "metadata": {
        "id": "dI7aZAhl7ye6",
        "colab_type": "code",
        "colab": {
          "base_uri": "https://localhost:8080/",
          "height": 204
        },
        "outputId": "4f509c0d-dd28-41a3-d4d6-db448b975821"
      },
      "source": [
        "ytest_predict_prob=model.predict_proba(X_test)\n",
        "pd.DataFrame(ytest_predict_prob).head()"
      ],
      "execution_count": 46,
      "outputs": [
        {
          "output_type": "execute_result",
          "data": {
            "text/html": [
              "<div>\n",
              "<style scoped>\n",
              "    .dataframe tbody tr th:only-of-type {\n",
              "        vertical-align: middle;\n",
              "    }\n",
              "\n",
              "    .dataframe tbody tr th {\n",
              "        vertical-align: top;\n",
              "    }\n",
              "\n",
              "    .dataframe thead th {\n",
              "        text-align: right;\n",
              "    }\n",
              "</style>\n",
              "<table border=\"1\" class=\"dataframe\">\n",
              "  <thead>\n",
              "    <tr style=\"text-align: right;\">\n",
              "      <th></th>\n",
              "      <th>0</th>\n",
              "      <th>1</th>\n",
              "    </tr>\n",
              "  </thead>\n",
              "  <tbody>\n",
              "    <tr>\n",
              "      <th>0</th>\n",
              "      <td>0.197218</td>\n",
              "      <td>0.802782</td>\n",
              "    </tr>\n",
              "    <tr>\n",
              "      <th>1</th>\n",
              "      <td>0.702567</td>\n",
              "      <td>0.297433</td>\n",
              "    </tr>\n",
              "    <tr>\n",
              "      <th>2</th>\n",
              "      <td>0.377508</td>\n",
              "      <td>0.622492</td>\n",
              "    </tr>\n",
              "    <tr>\n",
              "      <th>3</th>\n",
              "      <td>0.126573</td>\n",
              "      <td>0.873427</td>\n",
              "    </tr>\n",
              "    <tr>\n",
              "      <th>4</th>\n",
              "      <td>0.049146</td>\n",
              "      <td>0.950854</td>\n",
              "    </tr>\n",
              "  </tbody>\n",
              "</table>\n",
              "</div>"
            ],
            "text/plain": [
              "          0         1\n",
              "0  0.197218  0.802782\n",
              "1  0.702567  0.297433\n",
              "2  0.377508  0.622492\n",
              "3  0.126573  0.873427\n",
              "4  0.049146  0.950854"
            ]
          },
          "metadata": {
            "tags": []
          },
          "execution_count": 46
        }
      ]
    },
    {
      "cell_type": "markdown",
      "metadata": {
        "id": "AGYU9Raz7-6O",
        "colab_type": "text"
      },
      "source": [
        "Model **Evaluation**"
      ]
    },
    {
      "cell_type": "code",
      "metadata": {
        "id": "L8GV_Xhc77lt",
        "colab_type": "code",
        "colab": {
          "base_uri": "https://localhost:8080/",
          "height": 34
        },
        "outputId": "c6d5e032-0264-44d0-934a-9a3ab8b57397"
      },
      "source": [
        "# Accuracy - Training Data\n",
        "model.score(X_train, y_train)"
      ],
      "execution_count": 47,
      "outputs": [
        {
          "output_type": "execute_result",
          "data": {
            "text/plain": [
              "0.8354838709677419"
            ]
          },
          "metadata": {
            "tags": []
          },
          "execution_count": 47
        }
      ]
    },
    {
      "cell_type": "markdown",
      "metadata": {
        "id": "gstFkmqg8HWD",
        "colab_type": "text"
      },
      "source": [
        "AUC and ROC for the training data"
      ]
    },
    {
      "cell_type": "code",
      "metadata": {
        "id": "sgPBp5um8D8w",
        "colab_type": "code",
        "colab": {
          "base_uri": "https://localhost:8080/",
          "height": 299
        },
        "outputId": "64d53144-7975-4474-ad68-cd5dc0ed8a9a"
      },
      "source": [
        "from sklearn import metrics\n",
        "from sklearn.metrics import roc_auc_score,roc_curve,classification_report,confusion_matrix\n",
        "# predict probabilities\n",
        "probs = model.predict_proba(X_train)\n",
        "# keep probabilities for the positive outcome only\n",
        "probs = probs[:, 1]\n",
        "# calculate AUC\n",
        "auc = roc_auc_score(y_train, probs)\n",
        "print('AUC: %.3f' % auc)\n",
        "# calculate roc curve\n",
        "train_fpr, train_tpr, train_thresholds = roc_curve(y_train, probs)\n",
        "plt.plot([0, 1], [0, 1], linestyle='--')\n",
        "# plot the roc curve for the model\n",
        "plt.plot(train_fpr, train_tpr)"
      ],
      "execution_count": 48,
      "outputs": [
        {
          "output_type": "stream",
          "text": [
            "AUC: 0.855\n"
          ],
          "name": "stdout"
        },
        {
          "output_type": "execute_result",
          "data": {
            "text/plain": [
              "[<matplotlib.lines.Line2D at 0x7ff67f933c88>]"
            ]
          },
          "metadata": {
            "tags": []
          },
          "execution_count": 48
        },
        {
          "output_type": "display_data",
          "data": {
            "image/png": "[encoded data removed]",
            "text/plain": [
              "<Figure size 432x288 with 1 Axes>"
            ]
          },
          "metadata": {
            "tags": [],
            "needs_background": "light"
          }
        }
      ]
    },
    {
      "cell_type": "code",
      "metadata": {
        "id": "3GRJs4rq8MA0",
        "colab_type": "code",
        "colab": {
          "base_uri": "https://localhost:8080/",
          "height": 34
        },
        "outputId": "ea4e6ad3-419a-40c2-859a-fb4f87f7caa0"
      },
      "source": [
        "# Accuracy - Test Data\n",
        "model.score(X_test, y_test)"
      ],
      "execution_count": 49,
      "outputs": [
        {
          "output_type": "execute_result",
          "data": {
            "text/plain": [
              "0.7686567164179104"
            ]
          },
          "metadata": {
            "tags": []
          },
          "execution_count": 49
        }
      ]
    },
    {
      "cell_type": "markdown",
      "metadata": {
        "id": "V8egU-LS8f3Y",
        "colab_type": "text"
      },
      "source": [
        "AUC and ROC for the test data"
      ]
    },
    {
      "cell_type": "code",
      "metadata": {
        "id": "ktHCfiGU8dEf",
        "colab_type": "code",
        "colab": {
          "base_uri": "https://localhost:8080/",
          "height": 299
        },
        "outputId": "2f6cf4a5-6f07-4bdf-928f-26551716fee1"
      },
      "source": [
        "# predict probabilities\n",
        "probs = model.predict_proba(X_test)\n",
        "# keep probabilities for the positive outcome only\n",
        "probs = probs[:, 1]\n",
        "# calculate AUC\n",
        "test_auc = roc_auc_score(y_test, probs)\n",
        "print('AUC: %.3f' % auc)\n",
        "# calculate roc curve\n",
        "test_fpr, test_tpr, test_thresholds = roc_curve(y_test, probs)\n",
        "plt.plot([0, 1], [0, 1], linestyle='--')\n",
        "# plot the roc curve for the model\n",
        "plt.plot(test_fpr, test_tpr)"
      ],
      "execution_count": 50,
      "outputs": [
        {
          "output_type": "stream",
          "text": [
            "AUC: 0.855\n"
          ],
          "name": "stdout"
        },
        {
          "output_type": "execute_result",
          "data": {
            "text/plain": [
              "[<matplotlib.lines.Line2D at 0x7ff67f0b0908>]"
            ]
          },
          "metadata": {
            "tags": []
          },
          "execution_count": 50
        },
        {
          "output_type": "display_data",
          "data": {
            "image/png": "[encoded data removed]",
            "text/plain": [
              "<Figure size 432x288 with 1 Axes>"
            ]
          },
          "metadata": {
            "tags": [],
            "needs_background": "light"
          }
        }
      ]
    },
    {
      "cell_type": "markdown",
      "metadata": {
        "id": "F-_yBuQj8ooE",
        "colab_type": "text"
      },
      "source": [
        "Confusion Matrix for the training data"
      ]
    },
    {
      "cell_type": "code",
      "metadata": {
        "id": "Rn_GayzM8kLQ",
        "colab_type": "code",
        "colab": {
          "base_uri": "https://localhost:8080/",
          "height": 51
        },
        "outputId": "293c148c-e10d-4218-d1b0-98907acff4d4"
      },
      "source": [
        "confusion_matrix(y_train, ytrain_predict)"
      ],
      "execution_count": 51,
      "outputs": [
        {
          "output_type": "execute_result",
          "data": {
            "text/plain": [
              "array([[ 64,  35],\n",
              "       [ 16, 195]])"
            ]
          },
          "metadata": {
            "tags": []
          },
          "execution_count": 51
        }
      ]
    },
    {
      "cell_type": "code",
      "metadata": {
        "id": "Qgg7sKtp8rkv",
        "colab_type": "code",
        "colab": {
          "base_uri": "https://localhost:8080/",
          "height": 170
        },
        "outputId": "3e7a4697-22a5-4fb9-e47e-a7813bd00d2e"
      },
      "source": [
        "print(classification_report(y_train, ytrain_predict))"
      ],
      "execution_count": 52,
      "outputs": [
        {
          "output_type": "stream",
          "text": [
            "              precision    recall  f1-score   support\n",
            "\n",
            "           0       0.80      0.65      0.72        99\n",
            "           1       0.85      0.92      0.88       211\n",
            "\n",
            "    accuracy                           0.84       310\n",
            "   macro avg       0.82      0.79      0.80       310\n",
            "weighted avg       0.83      0.84      0.83       310\n",
            "\n"
          ],
          "name": "stdout"
        }
      ]
    },
    {
      "cell_type": "markdown",
      "metadata": {
        "id": "X-2hK9cl8xgh",
        "colab_type": "text"
      },
      "source": [
        "Confusion Matrix for test data"
      ]
    },
    {
      "cell_type": "code",
      "metadata": {
        "id": "1o47mc3I8twq",
        "colab_type": "code",
        "colab": {
          "base_uri": "https://localhost:8080/",
          "height": 51
        },
        "outputId": "834ac151-2552-4f4e-ec09-4a63c2e029ac"
      },
      "source": [
        "cnf_matrix=confusion_matrix(y_test, ytest_predict)\n",
        "cnf_matrix"
      ],
      "execution_count": 53,
      "outputs": [
        {
          "output_type": "execute_result",
          "data": {
            "text/plain": [
              "array([[18, 27],\n",
              "       [ 4, 85]])"
            ]
          },
          "metadata": {
            "tags": []
          },
          "execution_count": 53
        }
      ]
    },
    {
      "cell_type": "code",
      "metadata": {
        "id": "2AEO9dCK801n",
        "colab_type": "code",
        "colab": {
          "base_uri": "https://localhost:8080/",
          "height": 34
        },
        "outputId": "def555ca-197a-4b06-8b00-3b3c19f00ceb"
      },
      "source": [
        "#Test Data Accuracy\n",
        "test_acc=model.score(X_test,y_test)\n",
        "test_acc"
      ],
      "execution_count": 54,
      "outputs": [
        {
          "output_type": "execute_result",
          "data": {
            "text/plain": [
              "0.7686567164179104"
            ]
          },
          "metadata": {
            "tags": []
          },
          "execution_count": 54
        }
      ]
    },
    {
      "cell_type": "code",
      "metadata": {
        "id": "fSS-zsVi86PL",
        "colab_type": "code",
        "colab": {
          "base_uri": "https://localhost:8080/",
          "height": 170
        },
        "outputId": "48d9d81d-9fa8-42f0-b47b-c1bc6b0e766a"
      },
      "source": [
        "print(classification_report(y_test, ytest_predict))\n"
      ],
      "execution_count": 55,
      "outputs": [
        {
          "output_type": "stream",
          "text": [
            "              precision    recall  f1-score   support\n",
            "\n",
            "           0       0.82      0.40      0.54        45\n",
            "           1       0.76      0.96      0.85        89\n",
            "\n",
            "    accuracy                           0.77       134\n",
            "   macro avg       0.79      0.68      0.69       134\n",
            "weighted avg       0.78      0.77      0.74       134\n",
            "\n"
          ],
          "name": "stdout"
        }
      ]
    },
    {
      "cell_type": "markdown",
      "metadata": {
        "id": "Ca6t9WjqQQo2",
        "colab_type": "text"
      },
      "source": [
        "# **Linear Discriminant Analysis**"
      ]
    },
    {
      "cell_type": "code",
      "metadata": {
        "id": "63SjjOyX88FI",
        "colab_type": "code",
        "colab": {
          "base_uri": "https://localhost:8080/",
          "height": 51
        },
        "outputId": "b55349dd-4020-41dd-aa65-c29e5abc2610"
      },
      "source": [
        "from sklearn.discriminant_analysis import LinearDiscriminantAnalysis\n",
        "LDA_model= LinearDiscriminantAnalysis()\n",
        "LDA_model.fit(X_train, y_train)"
      ],
      "execution_count": 56,
      "outputs": [
        {
          "output_type": "execute_result",
          "data": {
            "text/plain": [
              "LinearDiscriminantAnalysis(n_components=None, priors=None, shrinkage=None,\n",
              "                           solver='svd', store_covariance=False, tol=0.0001)"
            ]
          },
          "metadata": {
            "tags": []
          },
          "execution_count": 56
        }
      ]
    },
    {
      "cell_type": "code",
      "metadata": {
        "id": "7tekR518QZ7C",
        "colab_type": "code",
        "colab": {
          "base_uri": "https://localhost:8080/",
          "height": 221
        },
        "outputId": "3e648d65-743b-49ee-9976-194f149f7091"
      },
      "source": [
        "## Performance Matrix on train data set\n",
        "y_train_predict = LDA_model.predict(X_train)\n",
        "model_score = LDA_model.score(X_train, y_train)\n",
        "print(model_score)\n",
        "print(metrics.confusion_matrix(y_train, y_train_predict))\n",
        "print(metrics.classification_report(y_train, y_train_predict))"
      ],
      "execution_count": 57,
      "outputs": [
        {
          "output_type": "stream",
          "text": [
            "0.8419354838709677\n",
            "[[ 63  36]\n",
            " [ 13 198]]\n",
            "              precision    recall  f1-score   support\n",
            "\n",
            "           0       0.83      0.64      0.72        99\n",
            "           1       0.85      0.94      0.89       211\n",
            "\n",
            "    accuracy                           0.84       310\n",
            "   macro avg       0.84      0.79      0.80       310\n",
            "weighted avg       0.84      0.84      0.84       310\n",
            "\n"
          ],
          "name": "stdout"
        }
      ]
    },
    {
      "cell_type": "code",
      "metadata": {
        "id": "3eFnfLiqQnR8",
        "colab_type": "code",
        "colab": {
          "base_uri": "https://localhost:8080/",
          "height": 221
        },
        "outputId": "193e0733-c5b7-4dfe-b961-bf785fda010a"
      },
      "source": [
        "## Performance Matrix on test data set\n",
        "y_test_predict = LDA_model.predict(X_test)\n",
        "model_score = LDA_model.score(X_test, y_test)\n",
        "print(model_score)\n",
        "print(metrics.confusion_matrix(y_test, y_test_predict))\n",
        "print(metrics.classification_report(y_test, y_test_predict))"
      ],
      "execution_count": 58,
      "outputs": [
        {
          "output_type": "stream",
          "text": [
            "0.7761194029850746\n",
            "[[19 26]\n",
            " [ 4 85]]\n",
            "              precision    recall  f1-score   support\n",
            "\n",
            "           0       0.83      0.42      0.56        45\n",
            "           1       0.77      0.96      0.85        89\n",
            "\n",
            "    accuracy                           0.78       134\n",
            "   macro avg       0.80      0.69      0.70       134\n",
            "weighted avg       0.79      0.78      0.75       134\n",
            "\n"
          ],
          "name": "stdout"
        }
      ]
    },
    {
      "cell_type": "markdown",
      "metadata": {
        "id": "B-gH5mACsbK7",
        "colab_type": "text"
      },
      "source": [
        "## **Decision Tree**"
      ]
    },
    {
      "cell_type": "code",
      "metadata": {
        "id": "Rkj9Z13BQ3N7",
        "colab_type": "code",
        "colab": {
          "base_uri": "https://localhost:8080/",
          "height": 119
        },
        "outputId": "86ecb152-c4ad-4b15-974c-204ab6e7adfe"
      },
      "source": [
        "from sklearn import tree\n",
        "\n",
        "\n",
        "DT_model= tree.DecisionTreeClassifier()\n",
        "DT_model.fit(X_train, y_train)"
      ],
      "execution_count": 59,
      "outputs": [
        {
          "output_type": "execute_result",
          "data": {
            "text/plain": [
              "DecisionTreeClassifier(ccp_alpha=0.0, class_weight=None, criterion='gini',\n",
              "                       max_depth=None, max_features=None, max_leaf_nodes=None,\n",
              "                       min_impurity_decrease=0.0, min_impurity_split=None,\n",
              "                       min_samples_leaf=1, min_samples_split=2,\n",
              "                       min_weight_fraction_leaf=0.0, presort='deprecated',\n",
              "                       random_state=None, splitter='best')"
            ]
          },
          "metadata": {
            "tags": []
          },
          "execution_count": 59
        }
      ]
    },
    {
      "cell_type": "code",
      "metadata": {
        "id": "7JxhJmgjsgeH",
        "colab_type": "code",
        "colab": {
          "base_uri": "https://localhost:8080/",
          "height": 221
        },
        "outputId": "8002ae0d-9ac6-46b0-86e5-cc61e1ba7d6f"
      },
      "source": [
        "## Performance Matrix on train data set\n",
        "y_train_predict = DT_model.predict(X_train)\n",
        "model_score = DT_model.score(X_train, y_train)\n",
        "print(model_score)\n",
        "print(metrics.confusion_matrix(y_train, y_train_predict))\n",
        "print(metrics.classification_report(y_train, y_train_predict))"
      ],
      "execution_count": 60,
      "outputs": [
        {
          "output_type": "stream",
          "text": [
            "1.0\n",
            "[[ 99   0]\n",
            " [  0 211]]\n",
            "              precision    recall  f1-score   support\n",
            "\n",
            "           0       1.00      1.00      1.00        99\n",
            "           1       1.00      1.00      1.00       211\n",
            "\n",
            "    accuracy                           1.00       310\n",
            "   macro avg       1.00      1.00      1.00       310\n",
            "weighted avg       1.00      1.00      1.00       310\n",
            "\n"
          ],
          "name": "stdout"
        }
      ]
    },
    {
      "cell_type": "code",
      "metadata": {
        "id": "lWr5VjvKsi1P",
        "colab_type": "code",
        "colab": {
          "base_uri": "https://localhost:8080/",
          "height": 221
        },
        "outputId": "23871e7e-37db-496f-afe4-c5a61a175724"
      },
      "source": [
        "## Performance Matrix on test data set\n",
        "y_test_predict = DT_model.predict(X_test)\n",
        "model_score = DT_model.score(X_test, y_test)\n",
        "print(model_score)\n",
        "print(metrics.confusion_matrix(y_test, y_test_predict))\n",
        "print(metrics.classification_report(y_test, y_test_predict))"
      ],
      "execution_count": 61,
      "outputs": [
        {
          "output_type": "stream",
          "text": [
            "0.8059701492537313\n",
            "[[27 18]\n",
            " [ 8 81]]\n",
            "              precision    recall  f1-score   support\n",
            "\n",
            "           0       0.77      0.60      0.68        45\n",
            "           1       0.82      0.91      0.86        89\n",
            "\n",
            "    accuracy                           0.81       134\n",
            "   macro avg       0.79      0.76      0.77       134\n",
            "weighted avg       0.80      0.81      0.80       134\n",
            "\n"
          ],
          "name": "stdout"
        }
      ]
    },
    {
      "cell_type": "markdown",
      "metadata": {
        "id": "cLmQSrNBsn01",
        "colab_type": "text"
      },
      "source": [
        "# **Random Forest**"
      ]
    },
    {
      "cell_type": "code",
      "metadata": {
        "id": "MeeIG4U9smQj",
        "colab_type": "code",
        "colab": {
          "base_uri": "https://localhost:8080/",
          "height": 153
        },
        "outputId": "91457215-6074-43e0-8b22-796ddac495e7"
      },
      "source": [
        "from sklearn.ensemble import RandomForestClassifier\n",
        "\n",
        "RF_model=RandomForestClassifier(n_estimators=100,random_state=1)\n",
        "RF_model.fit(X_train, y_train)"
      ],
      "execution_count": 62,
      "outputs": [
        {
          "output_type": "execute_result",
          "data": {
            "text/plain": [
              "RandomForestClassifier(bootstrap=True, ccp_alpha=0.0, class_weight=None,\n",
              "                       criterion='gini', max_depth=None, max_features='auto',\n",
              "                       max_leaf_nodes=None, max_samples=None,\n",
              "                       min_impurity_decrease=0.0, min_impurity_split=None,\n",
              "                       min_samples_leaf=1, min_samples_split=2,\n",
              "                       min_weight_fraction_leaf=0.0, n_estimators=100,\n",
              "                       n_jobs=None, oob_score=False, random_state=1, verbose=0,\n",
              "                       warm_start=False)"
            ]
          },
          "metadata": {
            "tags": []
          },
          "execution_count": 62
        }
      ]
    },
    {
      "cell_type": "code",
      "metadata": {
        "id": "OnSeCUcms8qm",
        "colab_type": "code",
        "colab": {
          "base_uri": "https://localhost:8080/",
          "height": 221
        },
        "outputId": "be7d6125-6c13-4f94-ddbc-22ca72a101a5"
      },
      "source": [
        "## Performance Matrix on train data set\n",
        "y_train_predict = RF_model.predict(X_train)\n",
        "model_score =RF_model.score(X_train, y_train)\n",
        "print(model_score)\n",
        "print(metrics.confusion_matrix(y_train, y_train_predict))\n",
        "print(metrics.classification_report(y_train, y_train_predict))"
      ],
      "execution_count": 63,
      "outputs": [
        {
          "output_type": "stream",
          "text": [
            "1.0\n",
            "[[ 99   0]\n",
            " [  0 211]]\n",
            "              precision    recall  f1-score   support\n",
            "\n",
            "           0       1.00      1.00      1.00        99\n",
            "           1       1.00      1.00      1.00       211\n",
            "\n",
            "    accuracy                           1.00       310\n",
            "   macro avg       1.00      1.00      1.00       310\n",
            "weighted avg       1.00      1.00      1.00       310\n",
            "\n"
          ],
          "name": "stdout"
        }
      ]
    },
    {
      "cell_type": "code",
      "metadata": {
        "id": "y_XkMbbfs95M",
        "colab_type": "code",
        "colab": {
          "base_uri": "https://localhost:8080/",
          "height": 221
        },
        "outputId": "f8be0255-02b0-411d-c776-e3533f1dbf55"
      },
      "source": [
        "## Performance Matrix on test data set\n",
        "y_test_predict = RF_model.predict(X_test)\n",
        "model_score = RF_model.score(X_test, y_test)\n",
        "print(model_score)\n",
        "print(metrics.confusion_matrix(y_test, y_test_predict))\n",
        "print(metrics.classification_report(y_test, y_test_predict))"
      ],
      "execution_count": 64,
      "outputs": [
        {
          "output_type": "stream",
          "text": [
            "0.8134328358208955\n",
            "[[25 20]\n",
            " [ 5 84]]\n",
            "              precision    recall  f1-score   support\n",
            "\n",
            "           0       0.83      0.56      0.67        45\n",
            "           1       0.81      0.94      0.87        89\n",
            "\n",
            "    accuracy                           0.81       134\n",
            "   macro avg       0.82      0.75      0.77       134\n",
            "weighted avg       0.82      0.81      0.80       134\n",
            "\n"
          ],
          "name": "stdout"
        }
      ]
    },
    {
      "cell_type": "markdown",
      "metadata": {
        "id": "xf9ilCfltHe3",
        "colab_type": "text"
      },
      "source": [
        "# **KNN Model**"
      ]
    },
    {
      "cell_type": "code",
      "metadata": {
        "id": "m74IHfg5s_Ym",
        "colab_type": "code",
        "colab": {
          "base_uri": "https://localhost:8080/",
          "height": 68
        },
        "outputId": "c9a8f7d1-1b4f-41b7-8665-4387b12a9932"
      },
      "source": [
        "from sklearn.neighbors import KNeighborsClassifier\n",
        "\n",
        "KNN_model=KNeighborsClassifier()\n",
        "KNN_model.fit(X_train,y_train)"
      ],
      "execution_count": 65,
      "outputs": [
        {
          "output_type": "execute_result",
          "data": {
            "text/plain": [
              "KNeighborsClassifier(algorithm='auto', leaf_size=30, metric='minkowski',\n",
              "                     metric_params=None, n_jobs=None, n_neighbors=5, p=2,\n",
              "                     weights='uniform')"
            ]
          },
          "metadata": {
            "tags": []
          },
          "execution_count": 65
        }
      ]
    },
    {
      "cell_type": "code",
      "metadata": {
        "id": "W02BTP3QtMih",
        "colab_type": "code",
        "colab": {
          "base_uri": "https://localhost:8080/",
          "height": 221
        },
        "outputId": "6497469c-143e-4fa1-ce7e-ca48b50376d4"
      },
      "source": [
        "## Performance Matrix on train data set\n",
        "y_train_predict = KNN_model.predict(X_train)\n",
        "model_score = KNN_model.score(X_train, y_train)\n",
        "print(model_score)\n",
        "print(metrics.confusion_matrix(y_train, y_train_predict))\n",
        "print(metrics.classification_report(y_train, y_train_predict))"
      ],
      "execution_count": 66,
      "outputs": [
        {
          "output_type": "stream",
          "text": [
            "0.832258064516129\n",
            "[[ 58  41]\n",
            " [ 11 200]]\n",
            "              precision    recall  f1-score   support\n",
            "\n",
            "           0       0.84      0.59      0.69        99\n",
            "           1       0.83      0.95      0.88       211\n",
            "\n",
            "    accuracy                           0.83       310\n",
            "   macro avg       0.84      0.77      0.79       310\n",
            "weighted avg       0.83      0.83      0.82       310\n",
            "\n"
          ],
          "name": "stdout"
        }
      ]
    },
    {
      "cell_type": "code",
      "metadata": {
        "id": "R7_2dmYutN3-",
        "colab_type": "code",
        "colab": {
          "base_uri": "https://localhost:8080/",
          "height": 221
        },
        "outputId": "4198afac-2df7-4244-b1ea-e1e4896f82c5"
      },
      "source": [
        "## Performance Matrix on test data set\n",
        "y_test_predict = KNN_model.predict(X_test)\n",
        "model_score = KNN_model.score(X_test, y_test)\n",
        "print(model_score)\n",
        "print(metrics.confusion_matrix(y_test, y_test_predict))\n",
        "print(metrics.classification_report(y_test, y_test_predict))"
      ],
      "execution_count": 67,
      "outputs": [
        {
          "output_type": "stream",
          "text": [
            "0.7686567164179104\n",
            "[[15 30]\n",
            " [ 1 88]]\n",
            "              precision    recall  f1-score   support\n",
            "\n",
            "           0       0.94      0.33      0.49        45\n",
            "           1       0.75      0.99      0.85        89\n",
            "\n",
            "    accuracy                           0.77       134\n",
            "   macro avg       0.84      0.66      0.67       134\n",
            "weighted avg       0.81      0.77      0.73       134\n",
            "\n"
          ],
          "name": "stdout"
        }
      ]
    },
    {
      "cell_type": "markdown",
      "metadata": {
        "id": "Gkxqv50Ht1eK",
        "colab_type": "text"
      },
      "source": [
        "# **Extreme Gradient Boost**"
      ]
    },
    {
      "cell_type": "code",
      "metadata": {
        "id": "ZOda48FotPR7",
        "colab_type": "code",
        "colab": {
          "base_uri": "https://localhost:8080/",
          "height": 136
        },
        "outputId": "5bfecf8c-fd05-44b4-ede8-7bec7a34eaf5"
      },
      "source": [
        "import xgboost as xgb\n",
        "XGB_model=xgb.XGBClassifier(random_state=1,learning_rate=0.01)\n",
        "XGB_model.fit(X_train, y_train)"
      ],
      "execution_count": 68,
      "outputs": [
        {
          "output_type": "execute_result",
          "data": {
            "text/plain": [
              "XGBClassifier(base_score=0.5, booster='gbtree', colsample_bylevel=1,\n",
              "              colsample_bynode=1, colsample_bytree=1, gamma=0,\n",
              "              learning_rate=0.01, max_delta_step=0, max_depth=3,\n",
              "              min_child_weight=1, missing=None, n_estimators=100, n_jobs=1,\n",
              "              nthread=None, objective='binary:logistic', random_state=1,\n",
              "              reg_alpha=0, reg_lambda=1, scale_pos_weight=1, seed=None,\n",
              "              silent=None, subsample=1, verbosity=1)"
            ]
          },
          "metadata": {
            "tags": []
          },
          "execution_count": 68
        }
      ]
    },
    {
      "cell_type": "code",
      "metadata": {
        "id": "IDwKLLFuEQ6G",
        "colab_type": "code",
        "colab": {
          "base_uri": "https://localhost:8080/",
          "height": 221
        },
        "outputId": "34a3b1cf-61b8-4bb2-db06-b4540990be58"
      },
      "source": [
        "## Performance Matrix on train data set\n",
        "y_train_predict = XGB_model.predict(X_train)\n",
        "model_score = XGB_model.score(X_train, y_train)\n",
        "print(model_score)\n",
        "print(metrics.confusion_matrix(y_train, y_train_predict))\n",
        "print(metrics.classification_report(y_train, y_train_predict))"
      ],
      "execution_count": 69,
      "outputs": [
        {
          "output_type": "stream",
          "text": [
            "0.8774193548387097\n",
            "[[ 66  33]\n",
            " [  5 206]]\n",
            "              precision    recall  f1-score   support\n",
            "\n",
            "           0       0.93      0.67      0.78        99\n",
            "           1       0.86      0.98      0.92       211\n",
            "\n",
            "    accuracy                           0.88       310\n",
            "   macro avg       0.90      0.82      0.85       310\n",
            "weighted avg       0.88      0.88      0.87       310\n",
            "\n"
          ],
          "name": "stdout"
        }
      ]
    },
    {
      "cell_type": "code",
      "metadata": {
        "id": "tz2LfcNVETxH",
        "colab_type": "code",
        "colab": {
          "base_uri": "https://localhost:8080/",
          "height": 221
        },
        "outputId": "14b7ab21-555c-4385-8ef5-d8d4e543692c"
      },
      "source": [
        "## Performance Matrix on test data set\n",
        "y_test_predict = XGB_model.predict(X_test)\n",
        "model_score = XGB_model.score(X_test, y_test)\n",
        "print(model_score)\n",
        "print(metrics.confusion_matrix(y_test, y_test_predict))\n",
        "print(metrics.classification_report(y_test, y_test_predict))"
      ],
      "execution_count": 70,
      "outputs": [
        {
          "output_type": "stream",
          "text": [
            "0.8134328358208955\n",
            "[[22 23]\n",
            " [ 2 87]]\n",
            "              precision    recall  f1-score   support\n",
            "\n",
            "           0       0.92      0.49      0.64        45\n",
            "           1       0.79      0.98      0.87        89\n",
            "\n",
            "    accuracy                           0.81       134\n",
            "   macro avg       0.85      0.73      0.76       134\n",
            "weighted avg       0.83      0.81      0.79       134\n",
            "\n"
          ],
          "name": "stdout"
        }
      ]
    },
    {
      "cell_type": "code",
      "metadata": {
        "id": "DEJ4cHMDEVJq",
        "colab_type": "code",
        "colab": {}
      },
      "source": [
        ""
      ],
      "execution_count": 70,
      "outputs": []
    }
  ]
}